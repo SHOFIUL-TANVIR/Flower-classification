{
 "cells": [
  {
   "cell_type": "code",
   "execution_count": 6,
   "id": "b5273e37",
   "metadata": {},
   "outputs": [],
   "source": [
    "import os\n",
    "import pandas as pd\n",
    "\n",
    "path = r'E:\\Intern\\Flower kath golap\\test'\n",
    "os.chdir(path)\n",
    "lists = os.listdir(path)\n",
    "labels = []\n",
    "file_lst = []\n",
    "\n",
    "for folder in lists:\n",
    "    files = os.listdir(path +\"/\"+folder)\n",
    "    for file in files:\n",
    "      path_file = path + \"/\" + folder + \"/\" + file\n",
    "      file_lst.append(path_file)\n",
    "      labels.append(folder)\n",
    "\n",
    "dictP_n = {\"path\": file_lst,\n",
    "           \"label_name\": labels,\n",
    "          \"label\": labels}   \n",
    "\n",
    "data  = pd.DataFrame(dictP_n, index = None)\n",
    "data = data.sample(frac=1)\n",
    "data['label'] = data['label'].replace({\"class1\": 0, \"class2\": 1 })\n",
    "data.to_csv(\"E:\\Intern\\Flower kath golap//2.csv\", index =None)"
   ]
  },
  {
   "cell_type": "code",
   "execution_count": null,
   "id": "f37a8393",
   "metadata": {},
   "outputs": [],
   "source": []
  },
  {
   "cell_type": "code",
   "execution_count": null,
   "id": "d4805d57",
   "metadata": {},
   "outputs": [],
   "source": []
  }
 ],
 "metadata": {
  "kernelspec": {
   "display_name": "Python 3 (ipykernel)",
   "language": "python",
   "name": "python3"
  },
  "language_info": {
   "codemirror_mode": {
    "name": "ipython",
    "version": 3
   },
   "file_extension": ".py",
   "mimetype": "text/x-python",
   "name": "python",
   "nbconvert_exporter": "python",
   "pygments_lexer": "ipython3",
   "version": "3.9.12"
  }
 },
 "nbformat": 4,
 "nbformat_minor": 5
}
