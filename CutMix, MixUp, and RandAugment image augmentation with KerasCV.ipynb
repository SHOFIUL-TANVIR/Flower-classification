{
 "cells": [
  {
   "cell_type": "code",
   "execution_count": 1,
   "id": "d2b308e5",
   "metadata": {},
   "outputs": [],
   "source": [
    "import keras_cv\n",
    "import matplotlib.pyplot as plt\n",
    "import tensorflow as tf\n",
    "import tensorflow_datasets as tfds\n",
    "from tensorflow import keras\n",
    "from tensorflow.keras import applications\n",
    "from tensorflow.keras import losses\n",
    "from tensorflow.keras import optimizers\n"
   ]
  },
  {
   "cell_type": "code",
   "execution_count": 2,
   "id": "c46f0222",
   "metadata": {},
   "outputs": [
    {
     "name": "stdout",
     "output_type": "stream",
     "text": [
      "\u001b[1mDownloading and preparing dataset Unknown size (download: Unknown size, generated: Unknown size, total: Unknown size) to ~\\tensorflow_datasets\\oxford_flowers102\\2.1.1...\u001b[0m\n",
      "\u001b[1mDataset oxford_flowers102 downloaded and prepared to ~\\tensorflow_datasets\\oxford_flowers102\\2.1.1. Subsequent calls will reuse this data.\u001b[0m\n"
     ]
    }
   ],
   "source": [
    "BATCH_SIZE = 32\n",
    "AUTOTUNE = tf.data.AUTOTUNE\n",
    "tfds.disable_progress_bar()\n",
    "data, dataset_info = tfds.load(\"oxford_flowers102\", with_info=True, as_supervised=True)\n",
    "train_steps_per_epoch = dataset_info.splits[\"train\"].num_examples // BATCH_SIZE\n",
    "val_steps_per_epoch = dataset_info.splits[\"test\"].num_examples // BATCH_SIZE"
   ]
  },
  {
   "cell_type": "code",
   "execution_count": 3,
   "id": "9dbf1f4a",
   "metadata": {},
   "outputs": [],
   "source": [
    "IMAGE_SIZE = (224, 224)\n",
    "num_classes = dataset_info.features[\"label\"].num_classes\n",
    "\n",
    "\n",
    "def to_dict(image, label):\n",
    "    image = tf.image.resize(image, IMAGE_SIZE)\n",
    "    image = tf.cast(image, tf.float32)\n",
    "    label = tf.one_hot(label, num_classes)\n",
    "    return {\"images\": image, \"labels\": label}\n",
    "\n",
    "\n",
    "def prepare_dataset(dataset, split):\n",
    "    if split == \"train\":\n",
    "        return (\n",
    "            dataset.shuffle(10 * BATCH_SIZE)\n",
    "            .map(to_dict, num_parallel_calls=AUTOTUNE)\n",
    "            .batch(BATCH_SIZE)\n",
    "        )\n",
    "    if split == \"test\":\n",
    "        return dataset.map(to_dict, num_parallel_calls=AUTOTUNE).batch(BATCH_SIZE)\n",
    "\n",
    "\n",
    "def load_dataset(split=\"train\"):\n",
    "    dataset = data[split]\n",
    "    return prepare_dataset(dataset, split)\n",
    "\n",
    "\n",
    "train_dataset = load_dataset()"
   ]
  },
  {
   "cell_type": "code",
   "execution_count": 4,
   "id": "091adb47",
   "metadata": {},
   "outputs": [
    {
     "ename": "ResourceExhaustedError",
     "evalue": "{{function_node __wrapped__IteratorGetNext_output_types_2_device_/job:localhost/replica:0/task:0/device:CPU:0}} OOM when allocating tensor with shape[500,717,3] and type uint8 on /job:localhost/replica:0/task:0/device:CPU:0 by allocator cpu\n\t [[{{node decode_image/DecodeImage}}]] [Op:IteratorGetNext]",
     "output_type": "error",
     "traceback": [
      "\u001b[1;31m---------------------------------------------------------------------------\u001b[0m",
      "\u001b[1;31mResourceExhaustedError\u001b[0m                    Traceback (most recent call last)",
      "Input \u001b[1;32mIn [4]\u001b[0m, in \u001b[0;36m<cell line: 11>\u001b[1;34m()\u001b[0m\n\u001b[0;32m      7\u001b[0m         plt\u001b[38;5;241m.\u001b[39maxis(\u001b[38;5;124m\"\u001b[39m\u001b[38;5;124moff\u001b[39m\u001b[38;5;124m\"\u001b[39m)\n\u001b[0;32m      8\u001b[0m     plt\u001b[38;5;241m.\u001b[39mshow()\n\u001b[1;32m---> 11\u001b[0m \u001b[43mvisualize_dataset\u001b[49m\u001b[43m(\u001b[49m\u001b[43mtrain_dataset\u001b[49m\u001b[43m,\u001b[49m\u001b[43m \u001b[49m\u001b[43mtitle\u001b[49m\u001b[38;5;241;43m=\u001b[39;49m\u001b[38;5;124;43m\"\u001b[39;49m\u001b[38;5;124;43mBefore Augmentation\u001b[39;49m\u001b[38;5;124;43m\"\u001b[39;49m\u001b[43m)\u001b[49m\n",
      "Input \u001b[1;32mIn [4]\u001b[0m, in \u001b[0;36mvisualize_dataset\u001b[1;34m(dataset, title)\u001b[0m\n\u001b[0;32m      1\u001b[0m \u001b[38;5;28;01mdef\u001b[39;00m \u001b[38;5;21mvisualize_dataset\u001b[39m(dataset, title):\n\u001b[0;32m      2\u001b[0m     plt\u001b[38;5;241m.\u001b[39mfigure(figsize\u001b[38;5;241m=\u001b[39m(\u001b[38;5;241m6\u001b[39m, \u001b[38;5;241m6\u001b[39m))\u001b[38;5;241m.\u001b[39msuptitle(title, fontsize\u001b[38;5;241m=\u001b[39m\u001b[38;5;241m18\u001b[39m)\n\u001b[1;32m----> 3\u001b[0m     \u001b[38;5;28;01mfor\u001b[39;00m i, samples \u001b[38;5;129;01min\u001b[39;00m \u001b[38;5;28menumerate\u001b[39m(\u001b[38;5;28miter\u001b[39m(dataset\u001b[38;5;241m.\u001b[39mtake(\u001b[38;5;241m9\u001b[39m))):\n\u001b[0;32m      4\u001b[0m         images \u001b[38;5;241m=\u001b[39m samples[\u001b[38;5;124m\"\u001b[39m\u001b[38;5;124mimages\u001b[39m\u001b[38;5;124m\"\u001b[39m]\n\u001b[0;32m      5\u001b[0m         plt\u001b[38;5;241m.\u001b[39msubplot(\u001b[38;5;241m3\u001b[39m, \u001b[38;5;241m3\u001b[39m, i \u001b[38;5;241m+\u001b[39m \u001b[38;5;241m1\u001b[39m)\n",
      "File \u001b[1;32mE:\\SOFTWARE\\anaconda\\anaconda3\\lib\\site-packages\\tensorflow\\python\\data\\ops\\iterator_ops.py:766\u001b[0m, in \u001b[0;36mOwnedIterator.__next__\u001b[1;34m(self)\u001b[0m\n\u001b[0;32m    764\u001b[0m \u001b[38;5;28;01mdef\u001b[39;00m \u001b[38;5;21m__next__\u001b[39m(\u001b[38;5;28mself\u001b[39m):\n\u001b[0;32m    765\u001b[0m   \u001b[38;5;28;01mtry\u001b[39;00m:\n\u001b[1;32m--> 766\u001b[0m     \u001b[38;5;28;01mreturn\u001b[39;00m \u001b[38;5;28;43mself\u001b[39;49m\u001b[38;5;241;43m.\u001b[39;49m\u001b[43m_next_internal\u001b[49m\u001b[43m(\u001b[49m\u001b[43m)\u001b[49m\n\u001b[0;32m    767\u001b[0m   \u001b[38;5;28;01mexcept\u001b[39;00m errors\u001b[38;5;241m.\u001b[39mOutOfRangeError:\n\u001b[0;32m    768\u001b[0m     \u001b[38;5;28;01mraise\u001b[39;00m \u001b[38;5;167;01mStopIteration\u001b[39;00m\n",
      "File \u001b[1;32mE:\\SOFTWARE\\anaconda\\anaconda3\\lib\\site-packages\\tensorflow\\python\\data\\ops\\iterator_ops.py:749\u001b[0m, in \u001b[0;36mOwnedIterator._next_internal\u001b[1;34m(self)\u001b[0m\n\u001b[0;32m    746\u001b[0m \u001b[38;5;66;03m# TODO(b/77291417): This runs in sync mode as iterators use an error status\u001b[39;00m\n\u001b[0;32m    747\u001b[0m \u001b[38;5;66;03m# to communicate that there is no more data to iterate over.\u001b[39;00m\n\u001b[0;32m    748\u001b[0m \u001b[38;5;28;01mwith\u001b[39;00m context\u001b[38;5;241m.\u001b[39mexecution_mode(context\u001b[38;5;241m.\u001b[39mSYNC):\n\u001b[1;32m--> 749\u001b[0m   ret \u001b[38;5;241m=\u001b[39m \u001b[43mgen_dataset_ops\u001b[49m\u001b[38;5;241;43m.\u001b[39;49m\u001b[43miterator_get_next\u001b[49m\u001b[43m(\u001b[49m\n\u001b[0;32m    750\u001b[0m \u001b[43m      \u001b[49m\u001b[38;5;28;43mself\u001b[39;49m\u001b[38;5;241;43m.\u001b[39;49m\u001b[43m_iterator_resource\u001b[49m\u001b[43m,\u001b[49m\n\u001b[0;32m    751\u001b[0m \u001b[43m      \u001b[49m\u001b[43moutput_types\u001b[49m\u001b[38;5;241;43m=\u001b[39;49m\u001b[38;5;28;43mself\u001b[39;49m\u001b[38;5;241;43m.\u001b[39;49m\u001b[43m_flat_output_types\u001b[49m\u001b[43m,\u001b[49m\n\u001b[0;32m    752\u001b[0m \u001b[43m      \u001b[49m\u001b[43moutput_shapes\u001b[49m\u001b[38;5;241;43m=\u001b[39;49m\u001b[38;5;28;43mself\u001b[39;49m\u001b[38;5;241;43m.\u001b[39;49m\u001b[43m_flat_output_shapes\u001b[49m\u001b[43m)\u001b[49m\n\u001b[0;32m    754\u001b[0m   \u001b[38;5;28;01mtry\u001b[39;00m:\n\u001b[0;32m    755\u001b[0m     \u001b[38;5;66;03m# Fast path for the case `self._structure` is not a nested structure.\u001b[39;00m\n\u001b[0;32m    756\u001b[0m     \u001b[38;5;28;01mreturn\u001b[39;00m \u001b[38;5;28mself\u001b[39m\u001b[38;5;241m.\u001b[39m_element_spec\u001b[38;5;241m.\u001b[39m_from_compatible_tensor_list(ret)  \u001b[38;5;66;03m# pylint: disable=protected-access\u001b[39;00m\n",
      "File \u001b[1;32mE:\\SOFTWARE\\anaconda\\anaconda3\\lib\\site-packages\\tensorflow\\python\\ops\\gen_dataset_ops.py:3016\u001b[0m, in \u001b[0;36miterator_get_next\u001b[1;34m(iterator, output_types, output_shapes, name)\u001b[0m\n\u001b[0;32m   3014\u001b[0m   \u001b[38;5;28;01mreturn\u001b[39;00m _result\n\u001b[0;32m   3015\u001b[0m \u001b[38;5;28;01mexcept\u001b[39;00m _core\u001b[38;5;241m.\u001b[39m_NotOkStatusException \u001b[38;5;28;01mas\u001b[39;00m e:\n\u001b[1;32m-> 3016\u001b[0m   \u001b[43m_ops\u001b[49m\u001b[38;5;241;43m.\u001b[39;49m\u001b[43mraise_from_not_ok_status\u001b[49m\u001b[43m(\u001b[49m\u001b[43me\u001b[49m\u001b[43m,\u001b[49m\u001b[43m \u001b[49m\u001b[43mname\u001b[49m\u001b[43m)\u001b[49m\n\u001b[0;32m   3017\u001b[0m \u001b[38;5;28;01mexcept\u001b[39;00m _core\u001b[38;5;241m.\u001b[39m_FallbackException:\n\u001b[0;32m   3018\u001b[0m   \u001b[38;5;28;01mpass\u001b[39;00m\n",
      "File \u001b[1;32mE:\\SOFTWARE\\anaconda\\anaconda3\\lib\\site-packages\\tensorflow\\python\\framework\\ops.py:7209\u001b[0m, in \u001b[0;36mraise_from_not_ok_status\u001b[1;34m(e, name)\u001b[0m\n\u001b[0;32m   7207\u001b[0m \u001b[38;5;28;01mdef\u001b[39;00m \u001b[38;5;21mraise_from_not_ok_status\u001b[39m(e, name):\n\u001b[0;32m   7208\u001b[0m   e\u001b[38;5;241m.\u001b[39mmessage \u001b[38;5;241m+\u001b[39m\u001b[38;5;241m=\u001b[39m (\u001b[38;5;124m\"\u001b[39m\u001b[38;5;124m name: \u001b[39m\u001b[38;5;124m\"\u001b[39m \u001b[38;5;241m+\u001b[39m name \u001b[38;5;28;01mif\u001b[39;00m name \u001b[38;5;129;01mis\u001b[39;00m \u001b[38;5;129;01mnot\u001b[39;00m \u001b[38;5;28;01mNone\u001b[39;00m \u001b[38;5;28;01melse\u001b[39;00m \u001b[38;5;124m\"\u001b[39m\u001b[38;5;124m\"\u001b[39m)\n\u001b[1;32m-> 7209\u001b[0m   \u001b[38;5;28;01mraise\u001b[39;00m core\u001b[38;5;241m.\u001b[39m_status_to_exception(e) \u001b[38;5;28;01mfrom\u001b[39;00m \u001b[38;5;28mNone\u001b[39m\n",
      "\u001b[1;31mResourceExhaustedError\u001b[0m: {{function_node __wrapped__IteratorGetNext_output_types_2_device_/job:localhost/replica:0/task:0/device:CPU:0}} OOM when allocating tensor with shape[500,717,3] and type uint8 on /job:localhost/replica:0/task:0/device:CPU:0 by allocator cpu\n\t [[{{node decode_image/DecodeImage}}]] [Op:IteratorGetNext]"
     ]
    },
    {
     "data": {
      "image/png": "[encoded data removed]",
      "text/plain": [
       "<Figure size 432x432 with 1 Axes>"
      ]
     },
     "metadata": {
      "needs_background": "light"
     },
     "output_type": "display_data"
    }
   ],
   "source": [
    "def visualize_dataset(dataset, title):\n",
    "    plt.figure(figsize=(6, 6)).suptitle(title, fontsize=18)\n",
    "    for i, samples in enumerate(iter(dataset.take(9))):\n",
    "        images = samples[\"images\"]\n",
    "        plt.subplot(3, 3, i + 1)\n",
    "        plt.imshow(images[0].numpy().astype(\"uint8\"))\n",
    "        plt.axis(\"off\")\n",
    "    plt.show()\n",
    "\n",
    "\n",
    "visualize_dataset(train_dataset, title=\"Before Augmentation\")"
   ]
  },
  {
   "cell_type": "code",
   "execution_count": null,
   "id": "7f415c0d",
   "metadata": {},
   "outputs": [],
   "source": [
    "rand_augment = keras_cv.layers.RandAugment(\n",
    "    value_range=(0, 255),\n",
    "    augmentations_per_image=3,\n",
    "    magnitude=0.3,\n",
    "    magnitude_stddev=0.2,\n",
    "    rate=0.5,\n",
    ")\n",
    "\n",
    "\n",
    "def apply_rand_augment(inputs):\n",
    "    inputs[\"images\"] = rand_augment(inputs[\"images\"])\n",
    "    return inputs\n",
    "\n",
    "\n",
    "train_dataset = load_dataset().map(apply_rand_augment, num_parallel_calls=AUTOTUNE)"
   ]
  },
  {
   "cell_type": "code",
   "execution_count": null,
   "id": "1bef3b38",
   "metadata": {},
   "outputs": [],
   "source": [
    "visualize_dataset(train_dataset, title=\"After RandAugment\")\n"
   ]
  },
  {
   "cell_type": "code",
   "execution_count": null,
   "id": "ee9e7ebf",
   "metadata": {},
   "outputs": [],
   "source": [
    "cut_mix = keras_cv.layers.CutMix()\n",
    "mix_up = keras_cv.layers.MixUp()\n",
    "\n",
    "\n",
    "def cut_mix_and_mix_up(samples):\n",
    "    samples = cut_mix(samples, training=True)\n",
    "    samples = mix_up(samples, training=True)\n",
    "    return samples\n",
    "\n",
    "\n",
    "train_dataset = load_dataset().map(cut_mix_and_mix_up, num_parallel_calls=AUTOTUNE)\n",
    "\n",
    "visualize_dataset(train_dataset, title=\"After CutMix and MixUp\")"
   ]
  },
  {
   "cell_type": "code",
   "execution_count": null,
   "id": "c5a2f6b1",
   "metadata": {},
   "outputs": [],
   "source": [
    "layers = keras_cv.layers.RandAugment.get_standard_policy(\n",
    "    value_range=(0, 255), magnitude=0.75, magnitude_stddev=0.3\n",
    ")"
   ]
  },
  {
   "cell_type": "code",
   "execution_count": null,
   "id": "eca2b797",
   "metadata": {},
   "outputs": [],
   "source": [
    "layers = [\n",
    "    layer for layer in layers if not isinstance(layer, keras_cv.layers.RandomRotation)\n",
    "]"
   ]
  },
  {
   "cell_type": "code",
   "execution_count": null,
   "id": "2d991cf4",
   "metadata": {},
   "outputs": [],
   "source": [
    "layers = layers + [keras_cv.layers.GridMask()]\n"
   ]
  },
  {
   "cell_type": "code",
   "execution_count": null,
   "id": "954f713c",
   "metadata": {},
   "outputs": [],
   "source": [
    "pipeline = keras_cv.layers.RandomAugmentationPipeline(\n",
    "    layers=layers, augmentations_per_image=3\n",
    ")\n",
    "\n",
    "\n",
    "def apply_pipeline(inputs):\n",
    "    inputs[\"images\"] = pipeline(inputs[\"images\"])\n",
    "    return inputs"
   ]
  },
  {
   "cell_type": "code",
   "execution_count": null,
   "id": "4a886a8b",
   "metadata": {},
   "outputs": [],
   "source": [
    "train_dataset = load_dataset().map(apply_pipeline, num_parallel_calls=AUTOTUNE)\n",
    "visualize_dataset(train_dataset, title=\"After custom pipeline\")"
   ]
  },
  {
   "cell_type": "code",
   "execution_count": null,
   "id": "f10b3c02",
   "metadata": {},
   "outputs": [],
   "source": [
    "pipeline = keras_cv.layers.RandomAugmentationPipeline(\n",
    "    layers=[keras_cv.layers.GridMask(), keras_cv.layers.Grayscale(output_channels=3)],\n",
    "    augmentations_per_image=1,\n",
    ")"
   ]
  },
  {
   "cell_type": "code",
   "execution_count": null,
   "id": "f9ace63f",
   "metadata": {},
   "outputs": [],
   "source": [
    "train_dataset = load_dataset().map(apply_pipeline, num_parallel_calls=AUTOTUNE)\n",
    "visualize_dataset(train_dataset, title=\"After custom pipeline\")"
   ]
  },
  {
   "cell_type": "code",
   "execution_count": null,
   "id": "73e5fe12",
   "metadata": {},
   "outputs": [],
   "source": [
    "def preprocess_for_model(inputs):\n",
    "    images, labels = inputs[\"images\"], inputs[\"labels\"]\n",
    "    images = tf.cast(images, tf.float32)\n",
    "    return images, labels\n",
    "\n",
    "\n",
    "train_dataset = (\n",
    "    load_dataset()\n",
    "    .map(apply_rand_augment, num_parallel_calls=AUTOTUNE)\n",
    "    .map(cut_mix_and_mix_up, num_parallel_calls=AUTOTUNE)\n",
    ")\n",
    "\n",
    "visualize_dataset(train_dataset, \"CutMix, MixUp and RandAugment\")\n",
    "\n",
    "train_dataset = train_dataset.map(preprocess_for_model, num_parallel_calls=AUTOTUNE)\n",
    "\n",
    "test_dataset = load_dataset(split=\"test\")\n",
    "test_dataset = test_dataset.map(preprocess_for_model, num_parallel_calls=AUTOTUNE)\n",
    "\n",
    "train_dataset = train_dataset.prefetch(AUTOTUNE)\n",
    "test_dataset = test_dataset.prefetch(AUTOTUNE)\n",
    "\n",
    "train_dataset = train_dataset\n",
    "test_dataset = test_dataset"
   ]
  },
  {
   "cell_type": "code",
   "execution_count": null,
   "id": "707695a4",
   "metadata": {},
   "outputs": [],
   "source": [
    "input_shape = IMAGE_SIZE + (3,)\n",
    "\n",
    "\n",
    "def get_model():\n",
    "    model = keras_cv.models.DenseNet121(\n",
    "        include_rescaling=True, include_top=True, classes=num_classes\n",
    "    )\n",
    "    model.compile(\n",
    "        loss=losses.CategoricalCrossentropy(label_smoothing=0.1),\n",
    "        optimizer=optimizers.SGD(momentum=0.9),\n",
    "        metrics=[\"accuracy\"],\n",
    "    )\n",
    "    return model"
   ]
  },
  {
   "cell_type": "code",
   "execution_count": null,
   "id": "34953da2",
   "metadata": {},
   "outputs": [],
   "source": [
    "strategy = tf.distribute.MirroredStrategy()\n",
    "with strategy.scope():\n",
    "    model = get_model()\n",
    "    model.fit(\n",
    "        train_dataset,\n",
    "        epochs=1,\n",
    "        validation_data=test_dataset,\n",
    "    )"
   ]
  },
  {
   "cell_type": "code",
   "execution_count": null,
   "id": "34e58741",
   "metadata": {},
   "outputs": [],
   "source": []
  },
  {
   "cell_type": "code",
   "execution_count": null,
   "id": "c09cdd79",
   "metadata": {},
   "outputs": [],
   "source": []
  }
 ],
 "metadata": {
  "kernelspec": {
   "display_name": "Python 3 (ipykernel)",
   "language": "python",
   "name": "python3"
  },
  "language_info": {
   "codemirror_mode": {
    "name": "ipython",
    "version": 3
   },
   "file_extension": ".py",
   "mimetype": "text/x-python",
   "name": "python",
   "nbconvert_exporter": "python",
   "pygments_lexer": "ipython3",
   "version": "3.9.12"
  }
 },
 "nbformat": 4,
 "nbformat_minor": 5
}
