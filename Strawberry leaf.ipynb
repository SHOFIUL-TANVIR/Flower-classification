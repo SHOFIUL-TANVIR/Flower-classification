{
 "cells": [
  {
   "cell_type": "code",
   "execution_count": 1,
   "id": "7e755e4b",
   "metadata": {},
   "outputs": [],
   "source": [
    "import numpy as np\n",
    "import os\n",
    "import cv2\n",
    "import random\n",
    "import matplotlib.pyplot as plt\n",
    "import tensorflow as tf\n",
    "from tensorflow import keras\n",
    "from tensorflow.keras.utils import load_img, img_to_array\n",
    "from tensorflow.keras.models import Sequential\n",
    "from tensorflow.keras.layers import Conv2D,MaxPooling2D,Flatten,Dense,Activation\n"
   ]
  },
  {
   "cell_type": "code",
   "execution_count": 2,
   "id": "34996c09",
   "metadata": {},
   "outputs": [],
   "source": [
    "DIRECTORY= \"E:\\PYTHON\\Flower Classification\\leaf\"\n",
    "CATEGORIES= ['Strawberry_fresh','Strawberry_scorch']"
   ]
  },
  {
   "cell_type": "code",
   "execution_count": 3,
   "id": "ff09d170",
   "metadata": {},
   "outputs": [],
   "source": [
    "data=[]\n",
    "\n",
    "for categories in CATEGORIES:\n",
    "    folder=os.path.join(DIRECTORY,categories)\n",
    "    label=CATEGORIES.index(categories)\n",
    "    \n",
    "    \n",
    "    for img in os.listdir(folder):\n",
    "        img=os.path.join(folder,img)\n",
    "        img_arr=cv2.imread(img)\n",
    "        img_arr=cv2.resize(img_arr,(100,100))\n",
    "        \n",
    "        data.append([img_arr,label])\n",
    "        \n",
    "       \n",
    "     \n",
    "        \n",
    "        \n",
    "        \n",
    "        \n",
    "        "
   ]
  },
  {
   "cell_type": "code",
   "execution_count": 4,
   "id": "02e39ef1",
   "metadata": {},
   "outputs": [],
   "source": [
    "random.shuffle(data)\n"
   ]
  },
  {
   "cell_type": "code",
   "execution_count": 5,
   "id": "84e895f8",
   "metadata": {},
   "outputs": [],
   "source": [
    "x=[]\n",
    "y=[]\n",
    "\n",
    "for features,label in data:\n",
    "    x.append(features)\n",
    "    y.append(label)\n"
   ]
  },
  {
   "cell_type": "code",
   "execution_count": 6,
   "id": "efab4e40",
   "metadata": {},
   "outputs": [],
   "source": [
    "x= np.array(x)\n",
    "y= np.array(y)"
   ]
  },
  {
   "cell_type": "code",
   "execution_count": 7,
   "id": "489840a2",
   "metadata": {},
   "outputs": [],
   "source": [
    "x=x/255\n"
   ]
  },
  {
   "cell_type": "code",
   "execution_count": 8,
   "id": "fbda3004",
   "metadata": {},
   "outputs": [
    {
     "data": {
      "text/plain": [
       "(24, 100, 100, 3)"
      ]
     },
     "execution_count": 8,
     "metadata": {},
     "output_type": "execute_result"
    }
   ],
   "source": [
    "x.shape"
   ]
  },
  {
   "cell_type": "code",
   "execution_count": null,
   "id": "5ecde9b6",
   "metadata": {},
   "outputs": [],
   "source": []
  },
  {
   "cell_type": "code",
   "execution_count": 9,
   "id": "b3d93bfa",
   "metadata": {},
   "outputs": [],
   "source": [
    "model=Sequential()\n",
    "model.add(Conv2D(32,(3,3),input_shape=x.shape[1:],activation='relu'))\n",
    "model.add(MaxPooling2D(pool_size=(2,2)))\n",
    "\n",
    "model.add(Conv2D(32,(3,3),input_shape=x.shape[1:],activation='relu'))\n",
    "model.add(MaxPooling2D(pool_size=(2,2)))\n",
    "\n",
    "model.add(Flatten())\n",
    "model.add(Dense(2,activation='softmax'))"
   ]
  },
  {
   "cell_type": "code",
   "execution_count": null,
   "id": "138d217d",
   "metadata": {},
   "outputs": [],
   "source": []
  },
  {
   "cell_type": "code",
   "execution_count": 10,
   "id": "d759bd4a",
   "metadata": {},
   "outputs": [],
   "source": [
    "model.compile(loss='sparse_categorical_crossentropy',optimizer='adam', metrics=['accuracy'])"
   ]
  },
  {
   "cell_type": "code",
   "execution_count": 11,
   "id": "4568784e",
   "metadata": {},
   "outputs": [
    {
     "name": "stdout",
     "output_type": "stream",
     "text": [
      "Epoch 1/20\n",
      "1/1 [==============================] - 1s 844ms/step - loss: 0.6570 - accuracy: 0.7143 - val_loss: 2.4384 - val_accuracy: 0.0000e+00\n",
      "Epoch 2/20\n",
      "1/1 [==============================] - 0s 117ms/step - loss: 0.8518 - accuracy: 0.6667 - val_loss: 1.9987 - val_accuracy: 0.0000e+00\n",
      "Epoch 3/20\n",
      "1/1 [==============================] - 0s 134ms/step - loss: 0.6869 - accuracy: 0.6667 - val_loss: 1.2982 - val_accuracy: 0.0000e+00\n",
      "Epoch 4/20\n",
      "1/1 [==============================] - 0s 116ms/step - loss: 0.4935 - accuracy: 0.6667 - val_loss: 0.8361 - val_accuracy: 0.0000e+00\n",
      "Epoch 5/20\n",
      "1/1 [==============================] - 0s 111ms/step - loss: 0.4762 - accuracy: 0.9048 - val_loss: 0.6552 - val_accuracy: 0.6667\n",
      "Epoch 6/20\n",
      "1/1 [==============================] - 0s 114ms/step - loss: 0.5050 - accuracy: 1.0000 - val_loss: 0.6507 - val_accuracy: 0.6667\n",
      "Epoch 7/20\n",
      "1/1 [==============================] - 0s 114ms/step - loss: 0.4533 - accuracy: 1.0000 - val_loss: 0.7525 - val_accuracy: 0.3333\n",
      "Epoch 8/20\n",
      "1/1 [==============================] - 0s 114ms/step - loss: 0.3701 - accuracy: 1.0000 - val_loss: 0.9401 - val_accuracy: 0.0000e+00\n",
      "Epoch 9/20\n",
      "1/1 [==============================] - 0s 116ms/step - loss: 0.3137 - accuracy: 0.9524 - val_loss: 1.1194 - val_accuracy: 0.0000e+00\n",
      "Epoch 10/20\n",
      "1/1 [==============================] - 0s 114ms/step - loss: 0.2922 - accuracy: 0.9048 - val_loss: 1.0801 - val_accuracy: 0.0000e+00\n",
      "Epoch 11/20\n",
      "1/1 [==============================] - 0s 109ms/step - loss: 0.2526 - accuracy: 0.9524 - val_loss: 0.8295 - val_accuracy: 0.3333\n",
      "Epoch 12/20\n",
      "1/1 [==============================] - 0s 118ms/step - loss: 0.1950 - accuracy: 1.0000 - val_loss: 0.5475 - val_accuracy: 0.6667\n",
      "Epoch 13/20\n",
      "1/1 [==============================] - 0s 112ms/step - loss: 0.1678 - accuracy: 1.0000 - val_loss: 0.4853 - val_accuracy: 0.6667\n",
      "Epoch 14/20\n",
      "1/1 [==============================] - 0s 116ms/step - loss: 0.1381 - accuracy: 1.0000 - val_loss: 0.6118 - val_accuracy: 0.6667\n",
      "Epoch 15/20\n",
      "1/1 [==============================] - 0s 111ms/step - loss: 0.0946 - accuracy: 1.0000 - val_loss: 0.8079 - val_accuracy: 0.6667\n",
      "Epoch 16/20\n",
      "1/1 [==============================] - 0s 110ms/step - loss: 0.0729 - accuracy: 1.0000 - val_loss: 0.9353 - val_accuracy: 0.6667\n",
      "Epoch 17/20\n",
      "1/1 [==============================] - 0s 112ms/step - loss: 0.0593 - accuracy: 1.0000 - val_loss: 0.9437 - val_accuracy: 0.6667\n",
      "Epoch 18/20\n",
      "1/1 [==============================] - 0s 109ms/step - loss: 0.0428 - accuracy: 1.0000 - val_loss: 0.8692 - val_accuracy: 0.6667\n",
      "Epoch 19/20\n",
      "1/1 [==============================] - 0s 123ms/step - loss: 0.0307 - accuracy: 1.0000 - val_loss: 0.8004 - val_accuracy: 0.6667\n",
      "Epoch 20/20\n",
      "1/1 [==============================] - 0s 111ms/step - loss: 0.0274 - accuracy: 1.0000 - val_loss: 0.8513 - val_accuracy: 0.6667\n"
     ]
    },
    {
     "data": {
      "text/plain": [
       "<keras.callbacks.History at 0x1ead1476af0>"
      ]
     },
     "execution_count": 11,
     "metadata": {},
     "output_type": "execute_result"
    }
   ],
   "source": [
    "model.fit(x,y,epochs=20,validation_split=0.1)"
   ]
  },
  {
   "cell_type": "code",
   "execution_count": 12,
   "id": "e30ed74e",
   "metadata": {},
   "outputs": [
    {
     "name": "stdout",
     "output_type": "stream",
     "text": [
      "1/1 [==============================] - 0s 140ms/step\n",
      "[[1.4375218e-34 1.0000000e+00]]\n",
      "Not Fully Bloom\n"
     ]
    }
   ],
   "source": [
    "from keras.preprocessing import image\n",
    "from tensorflow.keras.utils import load_img, img_to_array\n",
    "\n",
    "import numpy as np\n",
    "\n",
    "img_pred=keras.utils.load_img(r\"E:\\PYTHON\\Flower kath golap\\Pre Bloom\\301326944_10227631023258406_3696695807663530238_n.jpg\", target_size=(100,100))\n",
    "\n",
    "img_pred=tf.keras.utils.img_to_array(img_pred)\n",
    "img_pred=np.expand_dims(img_pred, axis=0)\n",
    "\n",
    "rslt=model.predict(img_pred)\n",
    "\n",
    "print(rslt)\n",
    "if rslt[0][0]>rslt[0][1]:\n",
    "    prediction=\"Fully Bloom\"\n",
    "    \n",
    "else:\n",
    "    prediction=\"Not Fully Bloom\"\n",
    "print(prediction)\n",
    "    "
   ]
  },
  {
   "cell_type": "code",
   "execution_count": null,
   "id": "d4926966",
   "metadata": {},
   "outputs": [],
   "source": [
    "plt.imshow(img_pred)"
   ]
  },
  {
   "cell_type": "code",
   "execution_count": null,
   "id": "dbae77f0",
   "metadata": {},
   "outputs": [],
   "source": []
  }
 ],
 "metadata": {
  "kernelspec": {
   "display_name": "Python 3 (ipykernel)",
   "language": "python",
   "name": "python3"
  },
  "language_info": {
   "codemirror_mode": {
    "name": "ipython",
    "version": 3
   },
   "file_extension": ".py",
   "mimetype": "text/x-python",
   "name": "python",
   "nbconvert_exporter": "python",
   "pygments_lexer": "ipython3",
   "version": "3.9.13"
  }
 },
 "nbformat": 4,
 "nbformat_minor": 5
}
