{
 "cells": [
  {
   "cell_type": "code",
   "execution_count": 1,
   "id": "ef26c378",
   "metadata": {},
   "outputs": [
    {
     "name": "stdout",
     "output_type": "stream",
     "text": [
      "Requirement already satisfied: tensorflow in e:\\software\\anaconda\\anaconda3\\envs\\tensor\\lib\\site-packages (2.9.1)\n",
      "Collecting tensorflow-io-gcs-filesystem>=0.23.1\n",
      "  Using cached tensorflow_io_gcs_filesystem-0.27.0-cp39-cp39-win_amd64.whl (1.5 MB)\n",
      "Requirement already satisfied: keras-preprocessing>=1.1.1 in e:\\software\\anaconda\\anaconda3\\envs\\tensor\\lib\\site-packages (from tensorflow) (1.1.2)\n",
      "Requirement already satisfied: numpy>=1.20 in e:\\software\\anaconda\\anaconda3\\envs\\tensor\\lib\\site-packages (from tensorflow) (1.22.3)\n",
      "Requirement already satisfied: packaging in e:\\software\\anaconda\\anaconda3\\envs\\tensor\\lib\\site-packages (from tensorflow) (21.3)\n",
      "Requirement already satisfied: keras<2.10.0,>=2.9.0rc0 in e:\\software\\anaconda\\anaconda3\\envs\\tensor\\lib\\site-packages (from tensorflow) (2.9.0)\n",
      "Collecting flatbuffers<2,>=1.12\n",
      "  Using cached flatbuffers-1.12-py2.py3-none-any.whl (15 kB)\n",
      "Requirement already satisfied: six>=1.12.0 in e:\\software\\anaconda\\anaconda3\\envs\\tensor\\lib\\site-packages (from tensorflow) (1.16.0)\n",
      "Requirement already satisfied: astunparse>=1.6.0 in e:\\software\\anaconda\\anaconda3\\envs\\tensor\\lib\\site-packages (from tensorflow) (1.6.3)\n",
      "Requirement already satisfied: grpcio<2.0,>=1.24.3 in e:\\software\\anaconda\\anaconda3\\envs\\tensor\\lib\\site-packages (from tensorflow) (1.42.0)\n",
      "Collecting absl-py>=1.0.0\n",
      "  Using cached absl_py-1.2.0-py3-none-any.whl (123 kB)\n",
      "Requirement already satisfied: setuptools in e:\\software\\anaconda\\anaconda3\\envs\\tensor\\lib\\site-packages (from tensorflow) (63.4.1)\n",
      "Requirement already satisfied: typing-extensions>=3.6.6 in e:\\software\\anaconda\\anaconda3\\envs\\tensor\\lib\\site-packages (from tensorflow) (4.3.0)\n",
      "Collecting protobuf<3.20,>=3.9.2\n",
      "  Using cached protobuf-3.19.5-cp39-cp39-win_amd64.whl (895 kB)\n",
      "Requirement already satisfied: google-pasta>=0.1.1 in e:\\software\\anaconda\\anaconda3\\envs\\tensor\\lib\\site-packages (from tensorflow) (0.2.0)\n",
      "Requirement already satisfied: tensorflow-estimator<2.10.0,>=2.9.0rc0 in e:\\software\\anaconda\\anaconda3\\envs\\tensor\\lib\\site-packages (from tensorflow) (2.9.0)\n",
      "Collecting libclang>=13.0.0\n",
      "  Using cached libclang-14.0.6-py2.py3-none-win_amd64.whl (14.2 MB)\n",
      "Requirement already satisfied: tensorboard<2.10,>=2.9 in e:\\software\\anaconda\\anaconda3\\envs\\tensor\\lib\\site-packages (from tensorflow) (2.9.0)\n",
      "Requirement already satisfied: opt-einsum>=2.3.2 in e:\\software\\anaconda\\anaconda3\\envs\\tensor\\lib\\site-packages (from tensorflow) (3.3.0)\n",
      "Requirement already satisfied: h5py>=2.9.0 in e:\\software\\anaconda\\anaconda3\\envs\\tensor\\lib\\site-packages (from tensorflow) (3.7.0)\n",
      "Requirement already satisfied: termcolor>=1.1.0 in e:\\software\\anaconda\\anaconda3\\envs\\tensor\\lib\\site-packages (from tensorflow) (1.1.0)\n",
      "Requirement already satisfied: wrapt>=1.11.0 in e:\\software\\anaconda\\anaconda3\\envs\\tensor\\lib\\site-packages (from tensorflow) (1.14.1)\n",
      "Collecting gast<=0.4.0,>=0.2.1\n",
      "  Using cached gast-0.4.0-py3-none-any.whl (9.8 kB)\n",
      "Requirement already satisfied: wheel<1.0,>=0.23.0 in e:\\software\\anaconda\\anaconda3\\envs\\tensor\\lib\\site-packages (from astunparse>=1.6.0->tensorflow) (0.37.1)\n",
      "Requirement already satisfied: google-auth<3,>=1.6.3 in e:\\software\\anaconda\\anaconda3\\envs\\tensor\\lib\\site-packages (from tensorboard<2.10,>=2.9->tensorflow) (2.6.0)\n",
      "Requirement already satisfied: requests<3,>=2.21.0 in e:\\software\\anaconda\\anaconda3\\envs\\tensor\\lib\\site-packages (from tensorboard<2.10,>=2.9->tensorflow) (2.28.1)\n",
      "Requirement already satisfied: google-auth-oauthlib<0.5,>=0.4.1 in e:\\software\\anaconda\\anaconda3\\envs\\tensor\\lib\\site-packages (from tensorboard<2.10,>=2.9->tensorflow) (0.4.4)\n",
      "Requirement already satisfied: markdown>=2.6.8 in e:\\software\\anaconda\\anaconda3\\envs\\tensor\\lib\\site-packages (from tensorboard<2.10,>=2.9->tensorflow) (3.3.4)\n",
      "Requirement already satisfied: tensorboard-data-server<0.7.0,>=0.6.0 in e:\\software\\anaconda\\anaconda3\\envs\\tensor\\lib\\site-packages (from tensorboard<2.10,>=2.9->tensorflow) (0.6.0)\n",
      "Requirement already satisfied: tensorboard-plugin-wit>=1.6.0 in e:\\software\\anaconda\\anaconda3\\envs\\tensor\\lib\\site-packages (from tensorboard<2.10,>=2.9->tensorflow) (1.8.1)\n",
      "Requirement already satisfied: werkzeug>=1.0.1 in e:\\software\\anaconda\\anaconda3\\envs\\tensor\\lib\\site-packages (from tensorboard<2.10,>=2.9->tensorflow) (2.0.3)\n",
      "Requirement already satisfied: pyparsing!=3.0.5,>=2.0.2 in e:\\software\\anaconda\\anaconda3\\envs\\tensor\\lib\\site-packages (from packaging->tensorflow) (3.0.9)\n",
      "Requirement already satisfied: cachetools<6.0,>=2.0.0 in e:\\software\\anaconda\\anaconda3\\envs\\tensor\\lib\\site-packages (from google-auth<3,>=1.6.3->tensorboard<2.10,>=2.9->tensorflow) (4.2.2)\n",
      "Requirement already satisfied: rsa<5,>=3.1.4 in e:\\software\\anaconda\\anaconda3\\envs\\tensor\\lib\\site-packages (from google-auth<3,>=1.6.3->tensorboard<2.10,>=2.9->tensorflow) (4.7.2)\n",
      "Requirement already satisfied: pyasn1-modules>=0.2.1 in e:\\software\\anaconda\\anaconda3\\envs\\tensor\\lib\\site-packages (from google-auth<3,>=1.6.3->tensorboard<2.10,>=2.9->tensorflow) (0.2.8)\n",
      "Requirement already satisfied: requests-oauthlib>=0.7.0 in e:\\software\\anaconda\\anaconda3\\envs\\tensor\\lib\\site-packages (from google-auth-oauthlib<0.5,>=0.4.1->tensorboard<2.10,>=2.9->tensorflow) (1.3.0)\n",
      "Requirement already satisfied: certifi>=2017.4.17 in e:\\software\\anaconda\\anaconda3\\envs\\tensor\\lib\\site-packages (from requests<3,>=2.21.0->tensorboard<2.10,>=2.9->tensorflow) (2022.6.15)\n",
      "Requirement already satisfied: idna<4,>=2.5 in e:\\software\\anaconda\\anaconda3\\envs\\tensor\\lib\\site-packages (from requests<3,>=2.21.0->tensorboard<2.10,>=2.9->tensorflow) (3.3)\n",
      "Requirement already satisfied: urllib3<1.27,>=1.21.1 in e:\\software\\anaconda\\anaconda3\\envs\\tensor\\lib\\site-packages (from requests<3,>=2.21.0->tensorboard<2.10,>=2.9->tensorflow) (1.26.11)\n",
      "Requirement already satisfied: charset-normalizer<3,>=2 in e:\\software\\anaconda\\anaconda3\\envs\\tensor\\lib\\site-packages (from requests<3,>=2.21.0->tensorboard<2.10,>=2.9->tensorflow) (2.0.4)\n",
      "Requirement already satisfied: pyasn1<0.5.0,>=0.4.6 in e:\\software\\anaconda\\anaconda3\\envs\\tensor\\lib\\site-packages (from pyasn1-modules>=0.2.1->google-auth<3,>=1.6.3->tensorboard<2.10,>=2.9->tensorflow) (0.4.8)\n",
      "Requirement already satisfied: oauthlib>=3.0.0 in e:\\software\\anaconda\\anaconda3\\envs\\tensor\\lib\\site-packages (from requests-oauthlib>=0.7.0->google-auth-oauthlib<0.5,>=0.4.1->tensorboard<2.10,>=2.9->tensorflow) (3.2.0)\n",
      "Installing collected packages: libclang, flatbuffers, tensorflow-io-gcs-filesystem, protobuf, gast, absl-py\n",
      "  Attempting uninstall: flatbuffers\n",
      "    Found existing installation: flatbuffers 2.0\n",
      "    Uninstalling flatbuffers-2.0:\n",
      "      Successfully uninstalled flatbuffers-2.0\n",
      "  Attempting uninstall: protobuf\n",
      "    Found existing installation: protobuf 3.20.1\n",
      "    Uninstalling protobuf-3.20.1:\n",
      "      Successfully uninstalled protobuf-3.20.1\n",
      "  Attempting uninstall: gast\n",
      "    Found existing installation: gast 0.5.3\n",
      "    Uninstalling gast-0.5.3:\n",
      "      Successfully uninstalled gast-0.5.3\n",
      "  Attempting uninstall: absl-py\n",
      "    Found existing installation: absl-py 0.15.0\n",
      "    Uninstalling absl-py-0.15.0:\n",
      "      Successfully uninstalled absl-py-0.15.0\n",
      "Successfully installed absl-py-1.2.0 flatbuffers-1.12 gast-0.4.0 libclang-14.0.6 protobuf-3.19.5 tensorflow-io-gcs-filesystem-0.27.0\n",
      "Note: you may need to restart the kernel to use updated packages.\n"
     ]
    }
   ],
   "source": [
    "pip install tensorflow"
   ]
  },
  {
   "cell_type": "code",
   "execution_count": 2,
   "id": "4d0242ef",
   "metadata": {},
   "outputs": [
    {
     "name": "stdout",
     "output_type": "stream",
     "text": [
      "Requirement already satisfied: numpy in e:\\software\\anaconda\\anaconda3\\envs\\tensor\\lib\\site-packages (1.22.3)\n",
      "Note: you may need to restart the kernel to use updated packages.\n"
     ]
    }
   ],
   "source": [
    "pip install numpy"
   ]
  },
  {
   "cell_type": "code",
   "execution_count": 3,
   "id": "0f98df5b",
   "metadata": {},
   "outputs": [
    {
     "name": "stdout",
     "output_type": "stream",
     "text": [
      "Requirement already satisfied: keras in e:\\software\\anaconda\\anaconda3\\envs\\tensor\\lib\\site-packages (2.9.0)\n",
      "Note: you may need to restart the kernel to use updated packages.\n"
     ]
    }
   ],
   "source": [
    "pip install keras"
   ]
  },
  {
   "cell_type": "code",
   "execution_count": 4,
   "id": "0f15bb19",
   "metadata": {},
   "outputs": [
    {
     "name": "stdout",
     "output_type": "stream",
     "text": [
      "Collecting keras-cv\n",
      "  Using cached keras_cv-0.3.1-py3-none-any.whl (289 kB)\n",
      "Collecting tensorflow-datasets\n",
      "  Using cached tensorflow_datasets-4.6.0-py3-none-any.whl (4.3 MB)\n",
      "Requirement already satisfied: absl-py in e:\\software\\anaconda\\anaconda3\\envs\\tensor\\lib\\site-packages (from keras-cv) (1.2.0)\n",
      "Requirement already satisfied: packaging in e:\\software\\anaconda\\anaconda3\\envs\\tensor\\lib\\site-packages (from keras-cv) (21.3)\n",
      "Requirement already satisfied: pyparsing!=3.0.5,>=2.0.2 in e:\\software\\anaconda\\anaconda3\\envs\\tensor\\lib\\site-packages (from packaging->keras-cv) (3.0.9)\n",
      "Requirement already satisfied: numpy in e:\\software\\anaconda\\anaconda3\\envs\\tensor\\lib\\site-packages (from tensorflow-datasets->keras-cv) (1.22.3)\n",
      "Collecting tensorflow-metadata\n",
      "  Using cached tensorflow_metadata-1.10.0-py3-none-any.whl (50 kB)\n",
      "Requirement already satisfied: six in e:\\software\\anaconda\\anaconda3\\envs\\tensor\\lib\\site-packages (from tensorflow-datasets->keras-cv) (1.16.0)\n",
      "Requirement already satisfied: termcolor in e:\\software\\anaconda\\anaconda3\\envs\\tensor\\lib\\site-packages (from tensorflow-datasets->keras-cv) (1.1.0)\n",
      "Collecting dill\n",
      "  Using cached dill-0.3.5.1-py2.py3-none-any.whl (95 kB)\n",
      "Collecting promise\n",
      "  Using cached promise-2.3-py3-none-any.whl\n",
      "Requirement already satisfied: protobuf>=3.12.2 in e:\\software\\anaconda\\anaconda3\\envs\\tensor\\lib\\site-packages (from tensorflow-datasets->keras-cv) (3.19.5)\n",
      "Collecting toml\n",
      "  Using cached toml-0.10.2-py2.py3-none-any.whl (16 kB)\n",
      "Requirement already satisfied: requests>=2.19.0 in e:\\software\\anaconda\\anaconda3\\envs\\tensor\\lib\\site-packages (from tensorflow-datasets->keras-cv) (2.28.1)\n",
      "Collecting etils[epath]\n",
      "  Using cached etils-0.8.0-py3-none-any.whl (127 kB)\n",
      "Collecting tqdm\n",
      "  Using cached tqdm-4.64.1-py2.py3-none-any.whl (78 kB)\n",
      "Requirement already satisfied: certifi>=2017.4.17 in e:\\software\\anaconda\\anaconda3\\envs\\tensor\\lib\\site-packages (from requests>=2.19.0->tensorflow-datasets->keras-cv) (2022.6.15)\n",
      "Requirement already satisfied: urllib3<1.27,>=1.21.1 in e:\\software\\anaconda\\anaconda3\\envs\\tensor\\lib\\site-packages (from requests>=2.19.0->tensorflow-datasets->keras-cv) (1.26.11)\n",
      "Requirement already satisfied: idna<4,>=2.5 in e:\\software\\anaconda\\anaconda3\\envs\\tensor\\lib\\site-packages (from requests>=2.19.0->tensorflow-datasets->keras-cv) (3.3)\n",
      "Requirement already satisfied: charset-normalizer<3,>=2 in e:\\software\\anaconda\\anaconda3\\envs\\tensor\\lib\\site-packages (from requests>=2.19.0->tensorflow-datasets->keras-cv) (2.0.4)\n",
      "Requirement already satisfied: typing_extensions in e:\\software\\anaconda\\anaconda3\\envs\\tensor\\lib\\site-packages (from etils[epath]->tensorflow-datasets->keras-cv) (4.3.0)\n",
      "Collecting importlib_resources\n",
      "  Using cached importlib_resources-5.9.0-py3-none-any.whl (33 kB)\n",
      "Requirement already satisfied: zipp in e:\\software\\anaconda\\anaconda3\\envs\\tensor\\lib\\site-packages (from etils[epath]->tensorflow-datasets->keras-cv) (3.8.0)\n",
      "Collecting googleapis-common-protos<2,>=1.52.0\n",
      "  Using cached googleapis_common_protos-1.56.4-py2.py3-none-any.whl (211 kB)\n",
      "Requirement already satisfied: colorama in e:\\software\\anaconda\\anaconda3\\envs\\tensor\\lib\\site-packages (from tqdm->tensorflow-datasets->keras-cv) (0.4.5)\n",
      "Installing collected packages: tqdm, toml, promise, importlib_resources, googleapis-common-protos, etils, dill, tensorflow-metadata, tensorflow-datasets, keras-cv\n",
      "Successfully installed dill-0.3.5.1 etils-0.8.0 googleapis-common-protos-1.56.4 importlib_resources-5.9.0 keras-cv-0.3.1 promise-2.3 tensorflow-datasets-4.6.0 tensorflow-metadata-1.10.0 toml-0.10.2 tqdm-4.64.1\n",
      "Note: you may need to restart the kernel to use updated packages.\n"
     ]
    }
   ],
   "source": [
    "pip install keras-cv\n"
   ]
  },
  {
   "cell_type": "code",
   "execution_count": 5,
   "id": "58805b65",
   "metadata": {},
   "outputs": [
    {
     "name": "stdout",
     "output_type": "stream",
     "text": [
      "Collecting opencv-python\n",
      "  Using cached opencv_python-4.6.0.66-cp36-abi3-win_amd64.whl (35.6 MB)\n",
      "Requirement already satisfied: numpy>=1.17.3 in e:\\software\\anaconda\\anaconda3\\envs\\tensor\\lib\\site-packages (from opencv-python) (1.22.3)\n",
      "Installing collected packages: opencv-python\n",
      "Successfully installed opencv-python-4.6.0.66\n",
      "Note: you may need to restart the kernel to use updated packages.\n"
     ]
    }
   ],
   "source": [
    "pip install opencv-python"
   ]
  },
  {
   "cell_type": "code",
   "execution_count": 6,
   "id": "77a8461a",
   "metadata": {},
   "outputs": [
    {
     "name": "stdout",
     "output_type": "stream",
     "text": [
      "Collecting matplotlib\n",
      "  Downloading matplotlib-3.6.0-cp39-cp39-win_amd64.whl (7.2 MB)\n",
      "     ---------------------------------------- 7.2/7.2 MB 1.6 MB/s eta 0:00:00\n",
      "Requirement already satisfied: packaging>=20.0 in e:\\software\\anaconda\\anaconda3\\envs\\tensor\\lib\\site-packages (from matplotlib) (21.3)\n",
      "Requirement already satisfied: python-dateutil>=2.7 in e:\\software\\anaconda\\anaconda3\\envs\\tensor\\lib\\site-packages (from matplotlib) (2.8.2)\n",
      "Collecting pillow>=6.2.0\n",
      "  Using cached Pillow-9.2.0-cp39-cp39-win_amd64.whl (3.3 MB)\n",
      "Collecting contourpy>=1.0.1\n",
      "  Downloading contourpy-1.0.5-cp39-cp39-win_amd64.whl (161 kB)\n",
      "     ------------------------------------ 162.0/162.0 kB 747.5 kB/s eta 0:00:00\n",
      "Collecting kiwisolver>=1.0.1\n",
      "  Using cached kiwisolver-1.4.4-cp39-cp39-win_amd64.whl (55 kB)\n",
      "Requirement already satisfied: pyparsing>=2.2.1 in e:\\software\\anaconda\\anaconda3\\envs\\tensor\\lib\\site-packages (from matplotlib) (3.0.9)\n",
      "Requirement already satisfied: numpy>=1.19 in e:\\software\\anaconda\\anaconda3\\envs\\tensor\\lib\\site-packages (from matplotlib) (1.22.3)\n",
      "Collecting fonttools>=4.22.0\n",
      "  Using cached fonttools-4.37.2-py3-none-any.whl (959 kB)\n",
      "Collecting cycler>=0.10\n",
      "  Using cached cycler-0.11.0-py3-none-any.whl (6.4 kB)\n",
      "Requirement already satisfied: six>=1.5 in e:\\software\\anaconda\\anaconda3\\envs\\tensor\\lib\\site-packages (from python-dateutil>=2.7->matplotlib) (1.16.0)\n",
      "Installing collected packages: pillow, kiwisolver, fonttools, cycler, contourpy, matplotlib\n",
      "Successfully installed contourpy-1.0.5 cycler-0.11.0 fonttools-4.37.2 kiwisolver-1.4.4 matplotlib-3.6.0 pillow-9.2.0\n",
      "Note: you may need to restart the kernel to use updated packages.\n"
     ]
    }
   ],
   "source": [
    "pip install matplotlib\n"
   ]
  },
  {
   "cell_type": "code",
   "execution_count": 7,
   "id": "643fa5c3",
   "metadata": {},
   "outputs": [
    {
     "name": "stdout",
     "output_type": "stream",
     "text": [
      "Collecting panda\n",
      "  Using cached panda-0.3.1-py3-none-any.whl\n",
      "Requirement already satisfied: setuptools in e:\\software\\anaconda\\anaconda3\\envs\\tensor\\lib\\site-packages (from panda) (63.4.1)\n",
      "Requirement already satisfied: requests in e:\\software\\anaconda\\anaconda3\\envs\\tensor\\lib\\site-packages (from panda) (2.28.1)\n",
      "Requirement already satisfied: urllib3<1.27,>=1.21.1 in e:\\software\\anaconda\\anaconda3\\envs\\tensor\\lib\\site-packages (from requests->panda) (1.26.11)\n",
      "Requirement already satisfied: charset-normalizer<3,>=2 in e:\\software\\anaconda\\anaconda3\\envs\\tensor\\lib\\site-packages (from requests->panda) (2.0.4)\n",
      "Requirement already satisfied: idna<4,>=2.5 in e:\\software\\anaconda\\anaconda3\\envs\\tensor\\lib\\site-packages (from requests->panda) (3.3)\n",
      "Requirement already satisfied: certifi>=2017.4.17 in e:\\software\\anaconda\\anaconda3\\envs\\tensor\\lib\\site-packages (from requests->panda) (2022.6.15)\n",
      "Installing collected packages: panda\n",
      "Successfully installed panda-0.3.1\n",
      "Note: you may need to restart the kernel to use updated packages.\n"
     ]
    }
   ],
   "source": [
    "pip install panda\n"
   ]
  },
  {
   "cell_type": "code",
   "execution_count": 11,
   "id": "8302c78f",
   "metadata": {},
   "outputs": [
    {
     "name": "stdout",
     "output_type": "stream",
     "text": [
      "Requirement already satisfied: pillow in e:\\software\\anaconda\\anaconda3\\envs\\tensorflow\\lib\\site-packages (9.2.0)\n",
      "Note: you may need to restart the kernel to use updated packages.\n"
     ]
    }
   ],
   "source": [
    "pip install pillow"
   ]
  },
  {
   "cell_type": "code",
   "execution_count": 13,
   "id": "0e4e12c7",
   "metadata": {},
   "outputs": [
    {
     "name": "stdout",
     "output_type": "stream",
     "text": [
      "Requirement already satisfied: tensorflow in e:\\software\\anaconda\\anaconda3\\envs\\tensorflow\\lib\\site-packages (2.9.1)\n",
      "Collecting tensorflow\n",
      "  Using cached tensorflow-2.10.0-cp39-cp39-win_amd64.whl (455.9 MB)\n",
      "Requirement already satisfied: keras in e:\\software\\anaconda\\anaconda3\\envs\\tensorflow\\lib\\site-packages (2.9.0)\n",
      "Collecting keras\n",
      "  Using cached keras-2.10.0-py2.py3-none-any.whl (1.7 MB)\n",
      "Requirement already satisfied: numpy in e:\\software\\anaconda\\anaconda3\\envs\\tensorflow\\lib\\site-packages (1.22.3)\n",
      "Collecting numpy\n",
      "  Using cached numpy-1.23.3-cp39-cp39-win_amd64.whl (14.7 MB)\n",
      "Collecting pandas\n",
      "  Using cached pandas-1.4.4-cp39-cp39-win_amd64.whl (10.6 MB)\n",
      "Collecting sklearn\n",
      "  Using cached sklearn-0.0-py2.py3-none-any.whl\n",
      "Requirement already satisfied: pillow in e:\\software\\anaconda\\anaconda3\\envs\\tensorflow\\lib\\site-packages (9.2.0)\n",
      "Requirement already satisfied: setuptools in e:\\software\\anaconda\\anaconda3\\envs\\tensorflow\\lib\\site-packages (from tensorflow) (63.4.1)\n",
      "Requirement already satisfied: absl-py>=1.0.0 in e:\\software\\anaconda\\anaconda3\\envs\\tensorflow\\lib\\site-packages (from tensorflow) (1.2.0)\n",
      "Requirement already satisfied: astunparse>=1.6.0 in e:\\software\\anaconda\\anaconda3\\envs\\tensorflow\\lib\\site-packages (from tensorflow) (1.6.3)\n",
      "Requirement already satisfied: protobuf<3.20,>=3.9.2 in e:\\software\\anaconda\\anaconda3\\envs\\tensorflow\\lib\\site-packages (from tensorflow) (3.19.5)\n",
      "Requirement already satisfied: typing-extensions>=3.6.6 in e:\\software\\anaconda\\anaconda3\\envs\\tensorflow\\lib\\site-packages (from tensorflow) (4.3.0)\n",
      "Requirement already satisfied: packaging in e:\\software\\anaconda\\anaconda3\\envs\\tensorflow\\lib\\site-packages (from tensorflow) (21.3)\n",
      "Requirement already satisfied: gast<=0.4.0,>=0.2.1 in e:\\software\\anaconda\\anaconda3\\envs\\tensorflow\\lib\\site-packages (from tensorflow) (0.4.0)\n",
      "Requirement already satisfied: h5py>=2.9.0 in e:\\software\\anaconda\\anaconda3\\envs\\tensorflow\\lib\\site-packages (from tensorflow) (3.7.0)\n",
      "Requirement already satisfied: termcolor>=1.1.0 in e:\\software\\anaconda\\anaconda3\\envs\\tensorflow\\lib\\site-packages (from tensorflow) (1.1.0)\n",
      "Requirement already satisfied: grpcio<2.0,>=1.24.3 in e:\\software\\anaconda\\anaconda3\\envs\\tensorflow\\lib\\site-packages (from tensorflow) (1.42.0)\n",
      "Requirement already satisfied: tensorflow-io-gcs-filesystem>=0.23.1 in e:\\software\\anaconda\\anaconda3\\envs\\tensorflow\\lib\\site-packages (from tensorflow) (0.27.0)\n",
      "Requirement already satisfied: libclang>=13.0.0 in e:\\software\\anaconda\\anaconda3\\envs\\tensorflow\\lib\\site-packages (from tensorflow) (14.0.6)\n",
      "Requirement already satisfied: google-pasta>=0.1.1 in e:\\software\\anaconda\\anaconda3\\envs\\tensorflow\\lib\\site-packages (from tensorflow) (0.2.0)\n",
      "Collecting flatbuffers>=2.0\n",
      "  Using cached flatbuffers-2.0.7-py2.py3-none-any.whl (26 kB)\n",
      "Requirement already satisfied: opt-einsum>=2.3.2 in e:\\software\\anaconda\\anaconda3\\envs\\tensorflow\\lib\\site-packages (from tensorflow) (3.3.0)\n",
      "Collecting tensorflow-estimator<2.11,>=2.10.0\n",
      "  Using cached tensorflow_estimator-2.10.0-py2.py3-none-any.whl (438 kB)\n",
      "Requirement already satisfied: keras-preprocessing>=1.1.1 in e:\\software\\anaconda\\anaconda3\\envs\\tensorflow\\lib\\site-packages (from tensorflow) (1.1.2)\n",
      "Collecting tensorboard<2.11,>=2.10\n",
      "  Using cached tensorboard-2.10.0-py3-none-any.whl (5.9 MB)\n",
      "Requirement already satisfied: wrapt>=1.11.0 in e:\\software\\anaconda\\anaconda3\\envs\\tensorflow\\lib\\site-packages (from tensorflow) (1.14.1)\n",
      "Requirement already satisfied: six>=1.12.0 in e:\\software\\anaconda\\anaconda3\\envs\\tensorflow\\lib\\site-packages (from tensorflow) (1.16.0)\n",
      "Requirement already satisfied: python-dateutil>=2.8.1 in e:\\software\\anaconda\\anaconda3\\envs\\tensorflow\\lib\\site-packages (from pandas) (2.8.2)\n",
      "Collecting pytz>=2020.1\n",
      "  Downloading pytz-2022.2.1-py2.py3-none-any.whl (500 kB)\n",
      "     ------------------------------------ 500.6/500.6 kB 191.4 kB/s eta 0:00:00\n",
      "Collecting scikit-learn\n",
      "  Using cached scikit_learn-1.1.2-cp39-cp39-win_amd64.whl (7.4 MB)\n",
      "Requirement already satisfied: wheel<1.0,>=0.23.0 in e:\\software\\anaconda\\anaconda3\\envs\\tensorflow\\lib\\site-packages (from astunparse>=1.6.0->tensorflow) (0.37.1)\n",
      "Requirement already satisfied: tensorboard-plugin-wit>=1.6.0 in e:\\software\\anaconda\\anaconda3\\envs\\tensorflow\\lib\\site-packages (from tensorboard<2.11,>=2.10->tensorflow) (1.8.1)\n",
      "Requirement already satisfied: google-auth<3,>=1.6.3 in e:\\software\\anaconda\\anaconda3\\envs\\tensorflow\\lib\\site-packages (from tensorboard<2.11,>=2.10->tensorflow) (2.6.0)\n",
      "Requirement already satisfied: markdown>=2.6.8 in e:\\software\\anaconda\\anaconda3\\envs\\tensorflow\\lib\\site-packages (from tensorboard<2.11,>=2.10->tensorflow) (3.3.4)\n",
      "Requirement already satisfied: werkzeug>=1.0.1 in e:\\software\\anaconda\\anaconda3\\envs\\tensorflow\\lib\\site-packages (from tensorboard<2.11,>=2.10->tensorflow) (2.0.3)\n",
      "Requirement already satisfied: tensorboard-data-server<0.7.0,>=0.6.0 in e:\\software\\anaconda\\anaconda3\\envs\\tensorflow\\lib\\site-packages (from tensorboard<2.11,>=2.10->tensorflow) (0.6.0)\n",
      "Requirement already satisfied: requests<3,>=2.21.0 in e:\\software\\anaconda\\anaconda3\\envs\\tensorflow\\lib\\site-packages (from tensorboard<2.11,>=2.10->tensorflow) (2.28.1)\n",
      "Requirement already satisfied: google-auth-oauthlib<0.5,>=0.4.1 in e:\\software\\anaconda\\anaconda3\\envs\\tensorflow\\lib\\site-packages (from tensorboard<2.11,>=2.10->tensorflow) (0.4.4)\n",
      "Requirement already satisfied: pyparsing!=3.0.5,>=2.0.2 in e:\\software\\anaconda\\anaconda3\\envs\\tensorflow\\lib\\site-packages (from packaging->tensorflow) (3.0.9)\n",
      "Collecting threadpoolctl>=2.0.0\n",
      "  Using cached threadpoolctl-3.1.0-py3-none-any.whl (14 kB)\n",
      "Requirement already satisfied: scipy>=1.3.2 in e:\\software\\anaconda\\anaconda3\\envs\\tensorflow\\lib\\site-packages (from scikit-learn->sklearn) (1.7.3)\n",
      "Collecting joblib>=1.0.0\n",
      "  Using cached joblib-1.1.0-py2.py3-none-any.whl (306 kB)\n",
      "Requirement already satisfied: rsa<5,>=3.1.4 in e:\\software\\anaconda\\anaconda3\\envs\\tensorflow\\lib\\site-packages (from google-auth<3,>=1.6.3->tensorboard<2.11,>=2.10->tensorflow) (4.7.2)\n",
      "Requirement already satisfied: pyasn1-modules>=0.2.1 in e:\\software\\anaconda\\anaconda3\\envs\\tensorflow\\lib\\site-packages (from google-auth<3,>=1.6.3->tensorboard<2.11,>=2.10->tensorflow) (0.2.8)\n",
      "Requirement already satisfied: cachetools<6.0,>=2.0.0 in e:\\software\\anaconda\\anaconda3\\envs\\tensorflow\\lib\\site-packages (from google-auth<3,>=1.6.3->tensorboard<2.11,>=2.10->tensorflow) (4.2.2)\n",
      "Requirement already satisfied: requests-oauthlib>=0.7.0 in e:\\software\\anaconda\\anaconda3\\envs\\tensorflow\\lib\\site-packages (from google-auth-oauthlib<0.5,>=0.4.1->tensorboard<2.11,>=2.10->tensorflow) (1.3.0)\n",
      "Requirement already satisfied: idna<4,>=2.5 in e:\\software\\anaconda\\anaconda3\\envs\\tensorflow\\lib\\site-packages (from requests<3,>=2.21.0->tensorboard<2.11,>=2.10->tensorflow) (3.3)\n",
      "Requirement already satisfied: urllib3<1.27,>=1.21.1 in e:\\software\\anaconda\\anaconda3\\envs\\tensorflow\\lib\\site-packages (from requests<3,>=2.21.0->tensorboard<2.11,>=2.10->tensorflow) (1.26.11)\n",
      "Requirement already satisfied: certifi>=2017.4.17 in e:\\software\\anaconda\\anaconda3\\envs\\tensorflow\\lib\\site-packages (from requests<3,>=2.21.0->tensorboard<2.11,>=2.10->tensorflow) (2022.6.15)\n",
      "Requirement already satisfied: charset-normalizer<3,>=2 in e:\\software\\anaconda\\anaconda3\\envs\\tensorflow\\lib\\site-packages (from requests<3,>=2.21.0->tensorboard<2.11,>=2.10->tensorflow) (2.0.4)\n",
      "Collecting numpy\n",
      "  Using cached numpy-1.22.4-cp39-cp39-win_amd64.whl (14.7 MB)\n",
      "Requirement already satisfied: pyasn1<0.5.0,>=0.4.6 in e:\\software\\anaconda\\anaconda3\\envs\\tensorflow\\lib\\site-packages (from pyasn1-modules>=0.2.1->google-auth<3,>=1.6.3->tensorboard<2.11,>=2.10->tensorflow) (0.4.8)\n",
      "Requirement already satisfied: oauthlib>=3.0.0 in e:\\software\\anaconda\\anaconda3\\envs\\tensorflow\\lib\\site-packages (from requests-oauthlib>=0.7.0->google-auth-oauthlib<0.5,>=0.4.1->tensorboard<2.11,>=2.10->tensorflow) (3.2.0)\n",
      "Installing collected packages: pytz, keras, flatbuffers, threadpoolctl, tensorflow-estimator, numpy, joblib, pandas, scikit-learn, tensorboard, sklearn, tensorflow\n",
      "  Attempting uninstall: keras\n",
      "    Found existing installation: keras 2.9.0\n",
      "    Uninstalling keras-2.9.0:\n",
      "      Successfully uninstalled keras-2.9.0\n",
      "  Attempting uninstall: flatbuffers\n",
      "    Found existing installation: flatbuffers 1.12\n",
      "    Uninstalling flatbuffers-1.12:\n",
      "      Successfully uninstalled flatbuffers-1.12\n",
      "  Attempting uninstall: tensorflow-estimator\n",
      "    Found existing installation: tensorflow-estimator 2.9.0\n",
      "    Uninstalling tensorflow-estimator-2.9.0:\n",
      "      Successfully uninstalled tensorflow-estimator-2.9.0\n",
      "  Attempting uninstall: numpy\n",
      "    Found existing installation: numpy 1.22.3\n",
      "    Uninstalling numpy-1.22.3:\n",
      "      Successfully uninstalled numpy-1.22.3\n",
      "  Attempting uninstall: tensorboard\n",
      "    Found existing installation: tensorboard 2.9.0\n",
      "    Uninstalling tensorboard-2.9.0:\n",
      "      Successfully uninstalled tensorboard-2.9.0\n",
      "  Attempting uninstall: tensorflow\n",
      "    Found existing installation: tensorflow 2.9.1\n",
      "    Uninstalling tensorflow-2.9.1:\n",
      "      Successfully uninstalled tensorflow-2.9.1\n",
      "Successfully installed flatbuffers-2.0.7 joblib-1.1.0 keras-2.10.0 numpy-1.22.4 pandas-1.4.4 pytz-2022.2.1 scikit-learn-1.1.2 sklearn-0.0 tensorboard-2.10.0 tensorflow-2.10.0 tensorflow-estimator-2.10.0 threadpoolctl-3.1.0\n",
      "Note: you may need to restart the kernel to use updated packages.\n"
     ]
    }
   ],
   "source": [
    "pip install --upgrade tensorflow keras numpy pandas sklearn pillow\n"
   ]
  },
  {
   "cell_type": "code",
   "execution_count": 14,
   "id": "22a5a636",
   "metadata": {},
   "outputs": [
    {
     "name": "stdout",
     "output_type": "stream",
     "text": [
      "Collecting tf-nightly\n",
      "  Using cached tf_nightly-2.11.0.dev20220812-cp39-cp39-win_amd64.whl (367.3 MB)\n",
      "Requirement already satisfied: astunparse>=1.6.0 in e:\\software\\anaconda\\anaconda3\\envs\\tensorflow\\lib\\site-packages (from tf-nightly) (1.6.3)\n",
      "Requirement already satisfied: flatbuffers>=2.0 in e:\\software\\anaconda\\anaconda3\\envs\\tensorflow\\lib\\site-packages (from tf-nightly) (2.0.7)\n",
      "Requirement already satisfied: tensorflow-io-gcs-filesystem>=0.23.1 in e:\\software\\anaconda\\anaconda3\\envs\\tensorflow\\lib\\site-packages (from tf-nightly) (0.27.0)\n",
      "Requirement already satisfied: absl-py>=1.0.0 in e:\\software\\anaconda\\anaconda3\\envs\\tensorflow\\lib\\site-packages (from tf-nightly) (1.2.0)\n",
      "Requirement already satisfied: grpcio<2.0,>=1.24.3 in e:\\software\\anaconda\\anaconda3\\envs\\tensorflow\\lib\\site-packages (from tf-nightly) (1.42.0)\n",
      "Requirement already satisfied: keras-preprocessing>=1.1.1 in e:\\software\\anaconda\\anaconda3\\envs\\tensorflow\\lib\\site-packages (from tf-nightly) (1.1.2)\n",
      "Collecting keras-nightly~=2.11.0.dev\n",
      "  Using cached keras_nightly-2.11.0.dev2022091507-py2.py3-none-any.whl (1.7 MB)\n",
      "Collecting tf-estimator-nightly~=2.11.0.dev\n",
      "  Using cached tf_estimator_nightly-2.11.0.dev2022091408-py2.py3-none-any.whl (439 kB)\n",
      "Requirement already satisfied: gast<=0.4.0,>=0.2.1 in e:\\software\\anaconda\\anaconda3\\envs\\tensorflow\\lib\\site-packages (from tf-nightly) (0.4.0)\n",
      "Requirement already satisfied: protobuf<3.20,>=3.9.2 in e:\\software\\anaconda\\anaconda3\\envs\\tensorflow\\lib\\site-packages (from tf-nightly) (3.19.5)\n",
      "Requirement already satisfied: opt-einsum>=2.3.2 in e:\\software\\anaconda\\anaconda3\\envs\\tensorflow\\lib\\site-packages (from tf-nightly) (3.3.0)\n",
      "Requirement already satisfied: packaging in e:\\software\\anaconda\\anaconda3\\envs\\tensorflow\\lib\\site-packages (from tf-nightly) (21.3)\n",
      "Requirement already satisfied: setuptools in e:\\software\\anaconda\\anaconda3\\envs\\tensorflow\\lib\\site-packages (from tf-nightly) (63.4.1)\n",
      "Collecting tb-nightly~=2.10.0.a\n",
      "  Using cached tb_nightly-2.10.0a20220811-py3-none-any.whl (5.9 MB)\n",
      "Requirement already satisfied: typing-extensions>=3.6.6 in e:\\software\\anaconda\\anaconda3\\envs\\tensorflow\\lib\\site-packages (from tf-nightly) (4.3.0)\n",
      "Requirement already satisfied: numpy>=1.20 in e:\\software\\anaconda\\anaconda3\\envs\\tensorflow\\lib\\site-packages (from tf-nightly) (1.22.4)\n",
      "Requirement already satisfied: libclang>=13.0.0 in e:\\software\\anaconda\\anaconda3\\envs\\tensorflow\\lib\\site-packages (from tf-nightly) (14.0.6)\n",
      "Requirement already satisfied: google-pasta>=0.1.1 in e:\\software\\anaconda\\anaconda3\\envs\\tensorflow\\lib\\site-packages (from tf-nightly) (0.2.0)\n",
      "Requirement already satisfied: h5py>=2.9.0 in e:\\software\\anaconda\\anaconda3\\envs\\tensorflow\\lib\\site-packages (from tf-nightly) (3.7.0)\n",
      "Requirement already satisfied: termcolor>=1.1.0 in e:\\software\\anaconda\\anaconda3\\envs\\tensorflow\\lib\\site-packages (from tf-nightly) (1.1.0)\n",
      "Requirement already satisfied: wrapt>=1.11.0 in e:\\software\\anaconda\\anaconda3\\envs\\tensorflow\\lib\\site-packages (from tf-nightly) (1.14.1)\n",
      "Requirement already satisfied: six>=1.12.0 in e:\\software\\anaconda\\anaconda3\\envs\\tensorflow\\lib\\site-packages (from tf-nightly) (1.16.0)\n",
      "Requirement already satisfied: wheel<1.0,>=0.23.0 in e:\\software\\anaconda\\anaconda3\\envs\\tensorflow\\lib\\site-packages (from astunparse>=1.6.0->tf-nightly) (0.37.1)\n",
      "Requirement already satisfied: google-auth-oauthlib<0.5,>=0.4.1 in e:\\software\\anaconda\\anaconda3\\envs\\tensorflow\\lib\\site-packages (from tb-nightly~=2.10.0.a->tf-nightly) (0.4.4)\n",
      "Requirement already satisfied: requests<3,>=2.21.0 in e:\\software\\anaconda\\anaconda3\\envs\\tensorflow\\lib\\site-packages (from tb-nightly~=2.10.0.a->tf-nightly) (2.28.1)\n",
      "Requirement already satisfied: google-auth<3,>=1.6.3 in e:\\software\\anaconda\\anaconda3\\envs\\tensorflow\\lib\\site-packages (from tb-nightly~=2.10.0.a->tf-nightly) (2.6.0)\n",
      "Requirement already satisfied: tensorboard-data-server<0.7.0,>=0.6.0 in e:\\software\\anaconda\\anaconda3\\envs\\tensorflow\\lib\\site-packages (from tb-nightly~=2.10.0.a->tf-nightly) (0.6.0)\n",
      "Requirement already satisfied: markdown>=2.6.8 in e:\\software\\anaconda\\anaconda3\\envs\\tensorflow\\lib\\site-packages (from tb-nightly~=2.10.0.a->tf-nightly) (3.3.4)\n",
      "Requirement already satisfied: tensorboard-plugin-wit>=1.6.0 in e:\\software\\anaconda\\anaconda3\\envs\\tensorflow\\lib\\site-packages (from tb-nightly~=2.10.0.a->tf-nightly) (1.8.1)\n",
      "Requirement already satisfied: werkzeug>=1.0.1 in e:\\software\\anaconda\\anaconda3\\envs\\tensorflow\\lib\\site-packages (from tb-nightly~=2.10.0.a->tf-nightly) (2.0.3)\n",
      "Requirement already satisfied: pyparsing!=3.0.5,>=2.0.2 in e:\\software\\anaconda\\anaconda3\\envs\\tensorflow\\lib\\site-packages (from packaging->tf-nightly) (3.0.9)\n",
      "Requirement already satisfied: rsa<5,>=3.1.4 in e:\\software\\anaconda\\anaconda3\\envs\\tensorflow\\lib\\site-packages (from google-auth<3,>=1.6.3->tb-nightly~=2.10.0.a->tf-nightly) (4.7.2)\n",
      "Requirement already satisfied: pyasn1-modules>=0.2.1 in e:\\software\\anaconda\\anaconda3\\envs\\tensorflow\\lib\\site-packages (from google-auth<3,>=1.6.3->tb-nightly~=2.10.0.a->tf-nightly) (0.2.8)\n",
      "Requirement already satisfied: cachetools<6.0,>=2.0.0 in e:\\software\\anaconda\\anaconda3\\envs\\tensorflow\\lib\\site-packages (from google-auth<3,>=1.6.3->tb-nightly~=2.10.0.a->tf-nightly) (4.2.2)\n",
      "Requirement already satisfied: requests-oauthlib>=0.7.0 in e:\\software\\anaconda\\anaconda3\\envs\\tensorflow\\lib\\site-packages (from google-auth-oauthlib<0.5,>=0.4.1->tb-nightly~=2.10.0.a->tf-nightly) (1.3.0)\n",
      "Requirement already satisfied: idna<4,>=2.5 in e:\\software\\anaconda\\anaconda3\\envs\\tensorflow\\lib\\site-packages (from requests<3,>=2.21.0->tb-nightly~=2.10.0.a->tf-nightly) (3.3)\n",
      "Requirement already satisfied: certifi>=2017.4.17 in e:\\software\\anaconda\\anaconda3\\envs\\tensorflow\\lib\\site-packages (from requests<3,>=2.21.0->tb-nightly~=2.10.0.a->tf-nightly) (2022.6.15)\n",
      "Requirement already satisfied: charset-normalizer<3,>=2 in e:\\software\\anaconda\\anaconda3\\envs\\tensorflow\\lib\\site-packages (from requests<3,>=2.21.0->tb-nightly~=2.10.0.a->tf-nightly) (2.0.4)\n",
      "Requirement already satisfied: urllib3<1.27,>=1.21.1 in e:\\software\\anaconda\\anaconda3\\envs\\tensorflow\\lib\\site-packages (from requests<3,>=2.21.0->tb-nightly~=2.10.0.a->tf-nightly) (1.26.11)\n",
      "Requirement already satisfied: pyasn1<0.5.0,>=0.4.6 in e:\\software\\anaconda\\anaconda3\\envs\\tensorflow\\lib\\site-packages (from pyasn1-modules>=0.2.1->google-auth<3,>=1.6.3->tb-nightly~=2.10.0.a->tf-nightly) (0.4.8)\n",
      "Requirement already satisfied: oauthlib>=3.0.0 in e:\\software\\anaconda\\anaconda3\\envs\\tensorflow\\lib\\site-packages (from requests-oauthlib>=0.7.0->google-auth-oauthlib<0.5,>=0.4.1->tb-nightly~=2.10.0.a->tf-nightly) (3.2.0)\n",
      "Installing collected packages: keras-nightly, tf-estimator-nightly, tb-nightly, tf-nightly\n",
      "Successfully installed keras-nightly-2.11.0.dev2022091507 tb-nightly-2.10.0a20220811 tf-estimator-nightly-2.11.0.dev2022091408 tf-nightly-2.11.0.dev20220812\n",
      "Note: you may need to restart the kernel to use updated packages.\n"
     ]
    }
   ],
   "source": [
    "pip install tf-nightly"
   ]
  },
  {
   "cell_type": "code",
   "execution_count": 15,
   "id": "6798d4cf",
   "metadata": {},
   "outputs": [
    {
     "name": "stdout",
     "output_type": "stream",
     "text": [
      "Requirement already satisfied: pandas in e:\\software\\anaconda\\anaconda3\\envs\\tensorflow\\lib\\site-packages (1.4.4)\n",
      "Requirement already satisfied: numpy>=1.18.5 in e:\\software\\anaconda\\anaconda3\\envs\\tensorflow\\lib\\site-packages (from pandas) (1.22.4)\n",
      "Requirement already satisfied: pytz>=2020.1 in e:\\software\\anaconda\\anaconda3\\envs\\tensorflow\\lib\\site-packages (from pandas) (2022.2.1)\n",
      "Requirement already satisfied: python-dateutil>=2.8.1 in e:\\software\\anaconda\\anaconda3\\envs\\tensorflow\\lib\\site-packages (from pandas) (2.8.2)\n",
      "Requirement already satisfied: six>=1.5 in e:\\software\\anaconda\\anaconda3\\envs\\tensorflow\\lib\\site-packages (from python-dateutil>=2.8.1->pandas) (1.16.0)\n",
      "Note: you may need to restart the kernel to use updated packages.\n"
     ]
    }
   ],
   "source": [
    "pip install pandas"
   ]
  },
  {
   "cell_type": "code",
   "execution_count": 8,
   "id": "09b44544",
   "metadata": {},
   "outputs": [
    {
     "name": "stdout",
     "output_type": "stream",
     "text": [
      "Collecting visualkeras\n",
      "  Using cached visualkeras-0.0.2-py3-none-any.whl (12 kB)\n",
      "Requirement already satisfied: pillow>=6.2.0 in e:\\software\\anaconda\\anaconda3\\envs\\tensor\\lib\\site-packages (from visualkeras) (9.2.0)\n",
      "Requirement already satisfied: numpy>=1.18.1 in e:\\software\\anaconda\\anaconda3\\envs\\tensor\\lib\\site-packages (from visualkeras) (1.22.3)\n",
      "Collecting aggdraw>=1.3.11\n",
      "  Using cached aggdraw-1.3.15-cp39-cp39-win_amd64.whl (43 kB)\n",
      "Installing collected packages: aggdraw, visualkeras\n",
      "Successfully installed aggdraw-1.3.15 visualkeras-0.0.2\n",
      "Note: you may need to restart the kernel to use updated packages.\n"
     ]
    }
   ],
   "source": [
    "pip install visualkeras"
   ]
  },
  {
   "cell_type": "code",
   "execution_count": 9,
   "id": "251346d8",
   "metadata": {},
   "outputs": [
    {
     "name": "stdout",
     "output_type": "stream",
     "text": [
      "Collecting seaborn\n",
      "  Using cached seaborn-0.12.0-py3-none-any.whl (285 kB)\n",
      "Requirement already satisfied: numpy>=1.17 in e:\\software\\anaconda\\anaconda3\\envs\\tensor\\lib\\site-packages (from seaborn) (1.22.3)\n",
      "Requirement already satisfied: matplotlib>=3.1 in e:\\software\\anaconda\\anaconda3\\envs\\tensor\\lib\\site-packages (from seaborn) (3.6.0)\n",
      "Collecting pandas>=0.25\n",
      "  Using cached pandas-1.4.4-cp39-cp39-win_amd64.whl (10.6 MB)\n",
      "Requirement already satisfied: pillow>=6.2.0 in e:\\software\\anaconda\\anaconda3\\envs\\tensor\\lib\\site-packages (from matplotlib>=3.1->seaborn) (9.2.0)\n",
      "Requirement already satisfied: python-dateutil>=2.7 in e:\\software\\anaconda\\anaconda3\\envs\\tensor\\lib\\site-packages (from matplotlib>=3.1->seaborn) (2.8.2)\n",
      "Requirement already satisfied: kiwisolver>=1.0.1 in e:\\software\\anaconda\\anaconda3\\envs\\tensor\\lib\\site-packages (from matplotlib>=3.1->seaborn) (1.4.4)\n",
      "Requirement already satisfied: packaging>=20.0 in e:\\software\\anaconda\\anaconda3\\envs\\tensor\\lib\\site-packages (from matplotlib>=3.1->seaborn) (21.3)\n",
      "Requirement already satisfied: cycler>=0.10 in e:\\software\\anaconda\\anaconda3\\envs\\tensor\\lib\\site-packages (from matplotlib>=3.1->seaborn) (0.11.0)\n",
      "Requirement already satisfied: contourpy>=1.0.1 in e:\\software\\anaconda\\anaconda3\\envs\\tensor\\lib\\site-packages (from matplotlib>=3.1->seaborn) (1.0.5)\n",
      "Requirement already satisfied: pyparsing>=2.2.1 in e:\\software\\anaconda\\anaconda3\\envs\\tensor\\lib\\site-packages (from matplotlib>=3.1->seaborn) (3.0.9)\n",
      "Requirement already satisfied: fonttools>=4.22.0 in e:\\software\\anaconda\\anaconda3\\envs\\tensor\\lib\\site-packages (from matplotlib>=3.1->seaborn) (4.37.2)\n",
      "Requirement already satisfied: pytz>=2020.1 in e:\\software\\anaconda\\anaconda3\\envs\\tensor\\lib\\site-packages (from pandas>=0.25->seaborn) (2022.1)\n",
      "Requirement already satisfied: six>=1.5 in e:\\software\\anaconda\\anaconda3\\envs\\tensor\\lib\\site-packages (from python-dateutil>=2.7->matplotlib>=3.1->seaborn) (1.16.0)\n",
      "Installing collected packages: pandas, seaborn\n",
      "Successfully installed pandas-1.4.4 seaborn-0.12.0\n",
      "Note: you may need to restart the kernel to use updated packages.\n"
     ]
    }
   ],
   "source": [
    "pip install seaborn"
   ]
  },
  {
   "cell_type": "code",
   "execution_count": 10,
   "id": "60dcf109",
   "metadata": {},
   "outputs": [
    {
     "name": "stdout",
     "output_type": "stream",
     "text": [
      "Collecting sklearn\n",
      "  Using cached sklearn-0.0-py2.py3-none-any.whl\n",
      "Collecting scikit-learn\n",
      "  Using cached scikit_learn-1.1.2-cp39-cp39-win_amd64.whl (7.4 MB)\n",
      "Collecting threadpoolctl>=2.0.0\n",
      "  Using cached threadpoolctl-3.1.0-py3-none-any.whl (14 kB)\n",
      "Requirement already satisfied: numpy>=1.17.3 in e:\\software\\anaconda\\anaconda3\\envs\\tensor\\lib\\site-packages (from scikit-learn->sklearn) (1.22.3)\n",
      "Requirement already satisfied: scipy>=1.3.2 in e:\\software\\anaconda\\anaconda3\\envs\\tensor\\lib\\site-packages (from scikit-learn->sklearn) (1.7.3)\n",
      "Collecting joblib>=1.0.0\n",
      "  Downloading joblib-1.2.0-py3-none-any.whl (297 kB)\n",
      "     ------------------------------------ 298.0/298.0 kB 472.5 kB/s eta 0:00:00\n",
      "Installing collected packages: threadpoolctl, joblib, scikit-learn, sklearn\n",
      "Successfully installed joblib-1.2.0 scikit-learn-1.1.2 sklearn-0.0 threadpoolctl-3.1.0\n",
      "Note: you may need to restart the kernel to use updated packages.\n"
     ]
    }
   ],
   "source": [
    "pip install sklearn"
   ]
  },
  {
   "cell_type": "code",
   "execution_count": null,
   "id": "4e410c5c-8f4b-4f0a-9ea8-e519bb8fce78",
   "metadata": {},
   "outputs": [],
   "source": []
  }
 ],
 "metadata": {
  "kernelspec": {
   "display_name": "Python 3 (ipykernel)",
   "language": "python",
   "name": "python3"
  },
  "language_info": {
   "codemirror_mode": {
    "name": "ipython",
    "version": 3
   },
   "file_extension": ".py",
   "mimetype": "text/x-python",
   "name": "python",
   "nbconvert_exporter": "python",
   "pygments_lexer": "ipython3",
   "version": "3.9.12"
  }
 },
 "nbformat": 4,
 "nbformat_minor": 5
}
