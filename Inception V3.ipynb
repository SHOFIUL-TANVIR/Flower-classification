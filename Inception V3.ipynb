{
 "cells": [
  {
   "cell_type": "code",
   "execution_count": 1,
   "id": "8f4a284b",
   "metadata": {},
   "outputs": [],
   "source": [
    "import tensorflow as tf\n",
    "from tensorflow.keras import layers, Sequential\n",
    "from tensorflow.keras.layers import Conv2D, MaxPool2D, Dropout, Dense, Flatten\n",
    "from tensorflow.keras.preprocessing.image import ImageDataGenerator\n",
    "from sklearn.preprocessing import LabelEncoder\n",
    "\n",
    "import numpy as np\n",
    "import pandas as pd\n",
    "import matplotlib.pyplot as plt\n",
    "import matplotlib.image as mpimg\n",
    "%matplotlib inline\n",
    "\n",
    "from sklearn.metrics import accuracy_score, precision_score, recall_score, f1_score, classification_report\n",
    "\n",
    "import os\n",
    "import random\n",
    "import warnings\n",
    "warnings.filterwarnings('ignore')"
   ]
  },
  {
   "cell_type": "code",
   "execution_count": 2,
   "id": "67a6b7b2",
   "metadata": {},
   "outputs": [
    {
     "name": "stdout",
     "output_type": "stream",
     "text": [
      "Found 91 files belonging to 3 classes.\n",
      "Using 73 files for training.\n",
      "Found 91 files belonging to 3 classes.\n",
      "Using 18 files for validation.\n"
     ]
    }
   ],
   "source": [
    "# Set image_size and batch_size\n",
    "IMAGE_SIZE = (224, 224)\n",
    "BATCH_SIZE = 32\n",
    "\n",
    "# Target Directory\n",
    "directory = r\"E:\\Intern\\Flower kath golap\"\n",
    "\n",
    "# Train Data\n",
    "train_data = tf.keras.preprocessing.image_dataset_from_directory(\n",
    "             directory,\n",
    "             subset='training',\n",
    "             validation_split=0.2,\n",
    "             image_size=IMAGE_SIZE,\n",
    "             batch_size=BATCH_SIZE,\n",
    "             seed=42)\n",
    "\n",
    "# Valid data\n",
    "valid_data = tf.keras.preprocessing.image_dataset_from_directory(\n",
    "            directory,\n",
    "            subset='validation',\n",
    "            validation_split=0.2,\n",
    "            image_size=IMAGE_SIZE,\n",
    "            batch_size=BATCH_SIZE,\n",
    "             seed=42)"
   ]
  },
  {
   "cell_type": "code",
   "execution_count": 3,
   "id": "4989f649",
   "metadata": {},
   "outputs": [
    {
     "data": {
      "text/plain": [
       "['test', 'train', 'valid']"
      ]
     },
     "execution_count": 3,
     "metadata": {},
     "output_type": "execute_result"
    }
   ],
   "source": [
    "class_names = train_data.class_names\n",
    "class_names"
   ]
  },
  {
   "cell_type": "code",
   "execution_count": 4,
   "id": "63b98c61",
   "metadata": {},
   "outputs": [
    {
     "data": {
      "text/plain": [
       "array([0, 1, 2], dtype=int64)"
      ]
     },
     "execution_count": 4,
     "metadata": {},
     "output_type": "execute_result"
    }
   ],
   "source": [
    "label_encode = LabelEncoder()\n",
    "class_names_label_encode = label_encode.fit_transform(class_names)\n",
    "class_names_label_encode"
   ]
  },
  {
   "cell_type": "code",
   "execution_count": 5,
   "id": "252d742e",
   "metadata": {},
   "outputs": [],
   "source": [
    "# Download Inception V3 model\n",
    "base_model_inception = tf.keras.applications.inception_v3.InceptionV3(include_top=False)\n",
    "\n",
    "# Freeze the layers\n",
    "base_model_inception.trainable=False\n",
    "\n",
    "# Inputs\n",
    "inputs = tf.keras.layers.Input(shape=(224,224,3), name='input_layer')\n",
    "\n",
    "# Scaling the values\n",
    "x = tf.keras.layers.experimental.preprocessing.Rescaling(1/255.)(inputs)\n",
    "\n",
    "# Pass inputs to our base_model\n",
    "x = base_model_inception(inputs,training=False)\n",
    "\n",
    "# GlobalAveragePooling2D\n",
    "x = tf.keras.layers.GlobalAveragePooling2D()(x)\n",
    "\n",
    "# outputs\n",
    "outputs = tf.keras.layers.Dense(len(class_names_label_encode), activation='softmax')(x)\n",
    "\n",
    "# Build model\n",
    "model_4 = tf.keras.Model(inputs, outputs)\n",
    "\n",
    "# Compile the model\n",
    "model_4.compile(loss=tf.keras.losses.SparseCategoricalCrossentropy(),\n",
    "               optimizer='adam',\n",
    "               metrics=['accuracy'])"
   ]
  },
  {
   "cell_type": "code",
   "execution_count": 6,
   "id": "c5f7694f",
   "metadata": {},
   "outputs": [
    {
     "name": "stdout",
     "output_type": "stream",
     "text": [
      "Model: \"model\"\n",
      "_________________________________________________________________\n",
      " Layer (type)                Output Shape              Param #   \n",
      "=================================================================\n",
      " input_layer (InputLayer)    [(None, 224, 224, 3)]     0         \n",
      "                                                                 \n",
      " inception_v3 (Functional)   (None, None, None, 2048)  21802784  \n",
      "                                                                 \n",
      " global_average_pooling2d (G  (None, 2048)             0         \n",
      " lobalAveragePooling2D)                                          \n",
      "                                                                 \n",
      " dense (Dense)               (None, 3)                 6147      \n",
      "                                                                 \n",
      "=================================================================\n",
      "Total params: 21,808,931\n",
      "Trainable params: 6,147\n",
      "Non-trainable params: 21,802,784\n",
      "_________________________________________________________________\n"
     ]
    }
   ],
   "source": [
    "model_4.summary()\n"
   ]
  },
  {
   "cell_type": "code",
   "execution_count": 7,
   "id": "0f04d757",
   "metadata": {},
   "outputs": [
    {
     "name": "stdout",
     "output_type": "stream",
     "text": [
      "Epoch 1/15\n",
      "3/3 [==============================] - 27s 5s/step - loss: 14.6950 - accuracy: 0.3562 - val_loss: 19.0800 - val_accuracy: 0.3333\n",
      "Epoch 2/15\n",
      "3/3 [==============================] - 9s 3s/step - loss: 14.4613 - accuracy: 0.3973 - val_loss: 13.7529 - val_accuracy: 0.2222\n",
      "Epoch 3/15\n",
      "3/3 [==============================] - 9s 3s/step - loss: 8.9392 - accuracy: 0.3836 - val_loss: 11.6979 - val_accuracy: 0.2778\n",
      "Epoch 4/15\n",
      "3/3 [==============================] - 9s 3s/step - loss: 8.7661 - accuracy: 0.3836 - val_loss: 7.5381 - val_accuracy: 0.4444\n",
      "Epoch 5/15\n",
      "3/3 [==============================] - 9s 3s/step - loss: 6.1122 - accuracy: 0.4795 - val_loss: 11.6740 - val_accuracy: 0.3333\n",
      "Epoch 6/15\n",
      "3/3 [==============================] - 9s 3s/step - loss: 7.5335 - accuracy: 0.4795 - val_loss: 6.8305 - val_accuracy: 0.4444\n",
      "Epoch 7/15\n",
      "3/3 [==============================] - 9s 3s/step - loss: 5.5987 - accuracy: 0.3973 - val_loss: 6.9465 - val_accuracy: 0.5000\n",
      "Epoch 8/15\n",
      "3/3 [==============================] - 9s 3s/step - loss: 5.9847 - accuracy: 0.3973 - val_loss: 5.5982 - val_accuracy: 0.5000\n",
      "Epoch 9/15\n",
      "3/3 [==============================] - 9s 3s/step - loss: 3.6661 - accuracy: 0.5342 - val_loss: 6.9284 - val_accuracy: 0.5000\n",
      "Epoch 10/15\n",
      "3/3 [==============================] - 9s 3s/step - loss: 4.0103 - accuracy: 0.5753 - val_loss: 5.6406 - val_accuracy: 0.4444\n",
      "Epoch 11/15\n",
      "3/3 [==============================] - 9s 3s/step - loss: 4.1867 - accuracy: 0.5342 - val_loss: 4.4368 - val_accuracy: 0.5000\n",
      "Epoch 12/15\n",
      "3/3 [==============================] - 9s 3s/step - loss: 2.8172 - accuracy: 0.4795 - val_loss: 5.1461 - val_accuracy: 0.4444\n",
      "Epoch 13/15\n",
      "3/3 [==============================] - 9s 3s/step - loss: 2.4896 - accuracy: 0.5479 - val_loss: 4.6511 - val_accuracy: 0.4444\n",
      "Epoch 14/15\n",
      "3/3 [==============================] - 9s 3s/step - loss: 2.3118 - accuracy: 0.6438 - val_loss: 5.1010 - val_accuracy: 0.4444\n",
      "Epoch 15/15\n",
      "3/3 [==============================] - 9s 3s/step - loss: 1.6019 - accuracy: 0.6575 - val_loss: 4.3349 - val_accuracy: 0.5556\n"
     ]
    }
   ],
   "source": [
    "# Fit the model\n",
    "history_4 = model_4.fit(train_data,\n",
    "                       epochs=15,\n",
    "                       validation_data=valid_data)"
   ]
  },
  {
   "cell_type": "code",
   "execution_count": 10,
   "id": "df95b0ff",
   "metadata": {},
   "outputs": [
    {
     "ename": "NameError",
     "evalue": "name 'model' is not defined",
     "output_type": "error",
     "traceback": [
      "\u001b[1;31m---------------------------------------------------------------------------\u001b[0m",
      "\u001b[1;31mNameError\u001b[0m                                 Traceback (most recent call last)",
      "Input \u001b[1;32mIn [10]\u001b[0m, in \u001b[0;36m<cell line: 3>\u001b[1;34m()\u001b[0m\n\u001b[0;32m      1\u001b[0m \u001b[38;5;66;03m# plot the loss\u001b[39;00m\n\u001b[0;32m      2\u001b[0m \u001b[38;5;28;01mimport\u001b[39;00m \u001b[38;5;21;01mmatplotlib\u001b[39;00m\u001b[38;5;21;01m.\u001b[39;00m\u001b[38;5;21;01mpyplot\u001b[39;00m \u001b[38;5;28;01mas\u001b[39;00m \u001b[38;5;21;01mplt\u001b[39;00m\n\u001b[1;32m----> 3\u001b[0m plt\u001b[38;5;241m.\u001b[39mplot(\u001b[43mmodel\u001b[49m\u001b[38;5;241m.\u001b[39mhistory_4[\u001b[38;5;124m'\u001b[39m\u001b[38;5;124mloss\u001b[39m\u001b[38;5;124m'\u001b[39m], label\u001b[38;5;241m=\u001b[39m\u001b[38;5;124m'\u001b[39m\u001b[38;5;124mtrain loss\u001b[39m\u001b[38;5;124m'\u001b[39m)\n\u001b[0;32m      4\u001b[0m plt\u001b[38;5;241m.\u001b[39mplot(history_4[\u001b[38;5;124m'\u001b[39m\u001b[38;5;124mval_loss\u001b[39m\u001b[38;5;124m'\u001b[39m], label\u001b[38;5;241m=\u001b[39m\u001b[38;5;124m'\u001b[39m\u001b[38;5;124mval loss\u001b[39m\u001b[38;5;124m'\u001b[39m)\n\u001b[0;32m      5\u001b[0m plt\u001b[38;5;241m.\u001b[39mlegend()\n",
      "\u001b[1;31mNameError\u001b[0m: name 'model' is not defined"
     ]
    }
   ],
   "source": [
    "# plot the loss\n",
    "import matplotlib.pyplot as plt\n",
    "plt.plot(model.history_4['loss'], label='train loss')\n",
    "plt.plot(history_4['val_loss'], label='val loss')\n",
    "plt.legend()\n",
    "plt.show()\n",
    "plt.savefig('LossVal_loss')\n",
    "\n",
    "# plot the accuracy\n",
    "plt.plot(history_4['accuracy'], label='train acc')\n",
    "plt.plot(history_4['val_accuracy'], label='val acc')\n",
    "plt.legend()\n",
    "plt.show()\n",
    "plt.savefig('AccVal_acc')"
   ]
  },
  {
   "cell_type": "code",
   "execution_count": null,
   "id": "98e375b7",
   "metadata": {},
   "outputs": [],
   "source": []
  },
  {
   "cell_type": "code",
   "execution_count": null,
   "id": "0d9e039a",
   "metadata": {},
   "outputs": [],
   "source": []
  },
  {
   "cell_type": "code",
   "execution_count": null,
   "id": "69903943",
   "metadata": {},
   "outputs": [],
   "source": []
  }
 ],
 "metadata": {
  "kernelspec": {
   "display_name": "Python 3 (ipykernel)",
   "language": "python",
   "name": "python3"
  },
  "language_info": {
   "codemirror_mode": {
    "name": "ipython",
    "version": 3
   },
   "file_extension": ".py",
   "mimetype": "text/x-python",
   "name": "python",
   "nbconvert_exporter": "python",
   "pygments_lexer": "ipython3",
   "version": "3.9.12"
  }
 },
 "nbformat": 4,
 "nbformat_minor": 5
}
