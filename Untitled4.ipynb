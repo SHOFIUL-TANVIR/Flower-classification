{
 "cells": [
  {
   "cell_type": "code",
   "execution_count": 1,
   "id": "245dead3",
   "metadata": {},
   "outputs": [
    {
     "name": "stderr",
     "output_type": "stream",
     "text": [
      "C:\\Users\\hp\\anaconda3\\lib\\site-packages\\scipy\\__init__.py:146: UserWarning: A NumPy version >=1.16.5 and <1.23.0 is required for this version of SciPy (detected version 1.23.2\n",
      "  warnings.warn(f\"A NumPy version >={np_minversion} and <{np_maxversion}\"\n"
     ]
    }
   ],
   "source": [
    "import tensorflow as tf"
   ]
  },
  {
   "cell_type": "code",
   "execution_count": 2,
   "id": "f666ce2c",
   "metadata": {},
   "outputs": [],
   "source": [
    "import tensorflow as tf\n"
   ]
  },
  {
   "cell_type": "code",
   "execution_count": 3,
   "id": "1455efff",
   "metadata": {},
   "outputs": [],
   "source": [
    "import tensorflow as tf\n"
   ]
  },
  {
   "cell_type": "code",
   "execution_count": 4,
   "id": "69f730d8",
   "metadata": {},
   "outputs": [
    {
     "name": "stdout",
     "output_type": "stream",
     "text": [
      "Requirement already satisfied: numpy in c:\\users\\hp\\anaconda3\\lib\\site-packages (1.23.2)Note: you may need to restart the kernel to use updated packages.\n",
      "\n"
     ]
    }
   ],
   "source": [
    "pip install numpy\n"
   ]
  },
  {
   "cell_type": "code",
   "execution_count": 5,
   "id": "a416cc99",
   "metadata": {},
   "outputs": [
    {
     "name": "stdout",
     "output_type": "stream",
     "text": [
      "Collecting normalization\n",
      "  Downloading normalization-0.4.tar.gz (44 kB)\n",
      "Building wheels for collected packages: normalization\n",
      "  Building wheel for normalization (setup.py): started\n",
      "  Building wheel for normalization (setup.py): finished with status 'done'\n",
      "  Created wheel for normalization: filename=normalization-0.4-py3-none-any.whl size=44015 sha256=63758322e2a70f740486bbb2a9dd0ad7eec32a679ac521cbf68fa91c7ca40b20\n",
      "  Stored in directory: c:\\users\\hp\\appdata\\local\\pip\\cache\\wheels\\74\\1b\\fa\\a2ad2130eb139e0ec84252e9181d6f09b9b70e7a3568b992b1\n",
      "Successfully built normalization\n",
      "Installing collected packages: normalization\n",
      "Successfully installed normalization-0.4\n",
      "Note: you may need to restart the kernel to use updated packages.\n"
     ]
    }
   ],
   "source": [
    "pip install normalization"
   ]
  },
  {
   "cell_type": "code",
   "execution_count": 6,
   "id": "0acc02d7",
   "metadata": {},
   "outputs": [
    {
     "name": "stdout",
     "output_type": "stream",
     "text": [
      "Collecting seed\n",
      "  Downloading seed-0.11.3.tar.gz (366 kB)\n",
      "Collecting path.py<11,>=10\n",
      "  Downloading path.py-10.6-py2.py3-none-any.whl (32 kB)\n",
      "Requirement already satisfied: wheel in c:\\users\\hp\\anaconda3\\lib\\site-packages (from seed) (0.37.1)\n",
      "Building wheels for collected packages: seed\n",
      "  Building wheel for seed (setup.py): started\n",
      "  Building wheel for seed (setup.py): finished with status 'done'\n",
      "  Created wheel for seed: filename=seed-0.11.3-py3-none-any.whl size=17752 sha256=815188e1298bd5e691c4fbf38854216a2e6c6df970905691fb00feda9b6d5d10\n",
      "  Stored in directory: c:\\users\\hp\\appdata\\local\\pip\\cache\\wheels\\ad\\c0\\5d\\12e840455766f46b7b93a9d9ee70afce9c6614fcc09b48c00b\n",
      "Successfully built seed\n",
      "Installing collected packages: path.py, seed\n",
      "Successfully installed path.py-10.6 seed-0.11.3\n",
      "Note: you may need to restart the kernel to use updated packages.\n"
     ]
    }
   ],
   "source": [
    "pip install seed"
   ]
  },
  {
   "cell_type": "code",
   "execution_count": null,
   "id": "28c07e98",
   "metadata": {},
   "outputs": [],
   "source": []
  }
 ],
 "metadata": {
  "kernelspec": {
   "display_name": "Python 3 (ipykernel)",
   "language": "python",
   "name": "python3"
  },
  "language_info": {
   "codemirror_mode": {
    "name": "ipython",
    "version": 3
   },
   "file_extension": ".py",
   "mimetype": "text/x-python",
   "name": "python",
   "nbconvert_exporter": "python",
   "pygments_lexer": "ipython3",
   "version": "3.9.12"
  }
 },
 "nbformat": 4,
 "nbformat_minor": 5
}
