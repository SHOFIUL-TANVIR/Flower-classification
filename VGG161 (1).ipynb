{
 "cells": [
  {
   "cell_type": "code",
   "execution_count": 1,
   "id": "bc5e4bdd",
   "metadata": {
    "scrolled": true
   },
   "outputs": [],
   "source": [
    "import tensorflow as tf\n",
    "import os\n",
    "import numpy as np\n",
    "from tensorflow.keras.models import Model\n",
    "from tensorflow.keras.utils import plot_model\n",
    "from keras.utils.vis_utils import plot_model\n",
    "import keras\n",
    "from tensorflow.keras.utils import load_img, img_to_array"
   ]
  },
  {
   "cell_type": "code",
   "execution_count": 2,
   "id": "a68f0590",
   "metadata": {
    "scrolled": true
   },
   "outputs": [],
   "source": [
    "import tensorflow.keras.preprocessing.image"
   ]
  },
  {
   "cell_type": "code",
   "execution_count": 3,
   "id": "a1a4d8ed",
   "metadata": {},
   "outputs": [],
   "source": [
    "base_dir=r\"D:\\university\\Thesis\\final\\Flower kath golap\\New folder\\training\""
   ]
  },
  {
   "cell_type": "code",
   "execution_count": 4,
   "id": "0c3e6da2",
   "metadata": {},
   "outputs": [],
   "source": [
    "IMAGE_SIZE=224\n",
    "BATCH_SIZE=64\n",
    "\n",
    "train_datagen=tf.keras.preprocessing.image.ImageDataGenerator(\n",
    "    \n",
    "    \n",
    "    rescale=1./255,\n",
    "    zoom_range=0.2,\n",
    "    horizontal_flip=True,\n",
    "    validation_split=0.1)\n",
    "\n",
    "validation_datagen=tf.keras.preprocessing.image.ImageDataGenerator(\n",
    "    rescale=1./255,\n",
    "    \n",
    "    validation_split=0.4\n",
    ")\n",
    "    "
   ]
  },
  {
   "cell_type": "code",
   "execution_count": 5,
   "id": "68e26421",
   "metadata": {
    "scrolled": false
   },
   "outputs": [
    {
     "name": "stdout",
     "output_type": "stream",
     "text": [
      "Found 1063 images belonging to 2 classes.\n",
      "Found 472 images belonging to 2 classes.\n"
     ]
    }
   ],
   "source": [
    "  \n",
    "train_genarator=train_datagen.flow_from_directory(\n",
    "    base_dir,\n",
    "    target_size=(IMAGE_SIZE,IMAGE_SIZE),\n",
    "    batch_size=BATCH_SIZE,\n",
    "    subset='training'\n",
    "    \n",
    "\n",
    ") \n",
    "\n",
    "validation_generator=validation_datagen.flow_from_directory(\n",
    "    base_dir,\n",
    "    target_size=(IMAGE_SIZE,IMAGE_SIZE),\n",
    "    batch_size=BATCH_SIZE,\n",
    "    subset='validation'\n",
    "    \n",
    "\n",
    ") "
   ]
  },
  {
   "cell_type": "code",
   "execution_count": 6,
   "id": "8749369e",
   "metadata": {
    "scrolled": true
   },
   "outputs": [],
   "source": [
    "from tensorflow.keras.layers import Input,Flatten,Dense\n",
    "from tensorflow.keras.models import Model\n",
    "from tensorflow.keras.applications.vgg16 import VGG16\n",
    "from tensorflow.keras.models import Sequential\n",
    "from glob import glob"
   ]
  },
  {
   "cell_type": "markdown",
   "id": "086384f9",
   "metadata": {},
   "source": [
    "# VGG16"
   ]
  },
  {
   "cell_type": "code",
   "execution_count": 7,
   "id": "9d50970e",
   "metadata": {},
   "outputs": [
    {
     "data": {
      "text/plain": [
       "<KerasTensor: shape=(None, 7, 7, 512) dtype=float32 (created by layer 'block5_pool')>"
      ]
     },
     "execution_count": 7,
     "metadata": {},
     "output_type": "execute_result"
    }
   ],
   "source": [
    "IMAGE_SIZE=[224,224]\n",
    "vgg=VGG16(input_shape=IMAGE_SIZE+[3],weights='imagenet',include_top=False)\n",
    "vgg.output"
   ]
  },
  {
   "cell_type": "code",
   "execution_count": 8,
   "id": "784acb91",
   "metadata": {},
   "outputs": [],
   "source": [
    "for layer in vgg.layers:\n",
    "    layer.trainable=False"
   ]
  },
  {
   "cell_type": "code",
   "execution_count": 9,
   "id": "917467df",
   "metadata": {},
   "outputs": [
    {
     "name": "stdout",
     "output_type": "stream",
     "text": [
      "2\n"
     ]
    }
   ],
   "source": [
    "folders=glob(r\"D:\\university\\Thesis\\final\\Flower kath golap\\New folder\\training\\*\")\n",
    "print(len(folders))"
   ]
  },
  {
   "cell_type": "code",
   "execution_count": 10,
   "id": "a5ed2d40",
   "metadata": {
    "scrolled": true
   },
   "outputs": [
    {
     "name": "stdout",
     "output_type": "stream",
     "text": [
      "Model: \"model\"\n",
      "_________________________________________________________________\n",
      " Layer (type)                Output Shape              Param #   \n",
      "=================================================================\n",
      " input_1 (InputLayer)        [(None, 224, 224, 3)]     0         \n",
      "                                                                 \n",
      " block1_conv1 (Conv2D)       (None, 224, 224, 64)      1792      \n",
      "                                                                 \n",
      " block1_conv2 (Conv2D)       (None, 224, 224, 64)      36928     \n",
      "                                                                 \n",
      " block1_pool (MaxPooling2D)  (None, 112, 112, 64)      0         \n",
      "                                                                 \n",
      " block2_conv1 (Conv2D)       (None, 112, 112, 128)     73856     \n",
      "                                                                 \n",
      " block2_conv2 (Conv2D)       (None, 112, 112, 128)     147584    \n",
      "                                                                 \n",
      " block2_pool (MaxPooling2D)  (None, 56, 56, 128)       0         \n",
      "                                                                 \n",
      " block3_conv1 (Conv2D)       (None, 56, 56, 256)       295168    \n",
      "                                                                 \n",
      " block3_conv2 (Conv2D)       (None, 56, 56, 256)       590080    \n",
      "                                                                 \n",
      " block3_conv3 (Conv2D)       (None, 56, 56, 256)       590080    \n",
      "                                                                 \n",
      " block3_pool (MaxPooling2D)  (None, 28, 28, 256)       0         \n",
      "                                                                 \n",
      " block4_conv1 (Conv2D)       (None, 28, 28, 512)       1180160   \n",
      "                                                                 \n",
      " block4_conv2 (Conv2D)       (None, 28, 28, 512)       2359808   \n",
      "                                                                 \n",
      " block4_conv3 (Conv2D)       (None, 28, 28, 512)       2359808   \n",
      "                                                                 \n",
      " block4_pool (MaxPooling2D)  (None, 14, 14, 512)       0         \n",
      "                                                                 \n",
      " block5_conv1 (Conv2D)       (None, 14, 14, 512)       2359808   \n",
      "                                                                 \n",
      " block5_conv2 (Conv2D)       (None, 14, 14, 512)       2359808   \n",
      "                                                                 \n",
      " block5_conv3 (Conv2D)       (None, 14, 14, 512)       2359808   \n",
      "                                                                 \n",
      " block5_pool (MaxPooling2D)  (None, 7, 7, 512)         0         \n",
      "                                                                 \n",
      " flatten (Flatten)           (None, 25088)             0         \n",
      "                                                                 \n",
      " dense (Dense)               (None, 2)                 50178     \n",
      "                                                                 \n",
      "=================================================================\n",
      "Total params: 14,764,866\n",
      "Trainable params: 50,178\n",
      "Non-trainable params: 14,714,688\n",
      "_________________________________________________________________\n"
     ]
    }
   ],
   "source": [
    "x=Flatten()(vgg.output)\n",
    "prediction=Dense(len(folders),activation='sigmoid')(x)\n",
    "model=Model(inputs=vgg.input,outputs=prediction)\n",
    "model.summary()"
   ]
  },
  {
   "cell_type": "code",
   "execution_count": 11,
   "id": "bc5b16ca",
   "metadata": {},
   "outputs": [],
   "source": [
    "#plot_model(model=model, show_shapes=True)----"
   ]
  },
  {
   "cell_type": "code",
   "execution_count": 12,
   "id": "29a199b4",
   "metadata": {},
   "outputs": [],
   "source": [
    "model.compile(loss='binary_crossentropy', optimizer='adam', metrics=['accuracy'])\n"
   ]
  },
  {
   "cell_type": "code",
   "execution_count": 13,
   "id": "793dd69b",
   "metadata": {},
   "outputs": [],
   "source": [
    "import sys\n",
    "from PIL import Image"
   ]
  },
  {
   "cell_type": "code",
   "execution_count": 14,
   "id": "d588f9ee",
   "metadata": {},
   "outputs": [
    {
     "name": "stdout",
     "output_type": "stream",
     "text": [
      "Epoch 1/150\n",
      "17/17 [==============================] - 287s 17s/step - loss: 0.7867 - accuracy: 0.5362 - val_loss: 0.6806 - val_accuracy: 0.6144\n",
      "Epoch 2/150\n",
      "17/17 [==============================] - 265s 15s/step - loss: 0.6298 - accuracy: 0.6707 - val_loss: 0.6075 - val_accuracy: 0.6695\n",
      "Epoch 3/150\n",
      "17/17 [==============================] - 240s 14s/step - loss: 0.6258 - accuracy: 0.6604 - val_loss: 0.6390 - val_accuracy: 0.6250\n",
      "Epoch 4/150\n",
      "17/17 [==============================] - 239s 14s/step - loss: 0.5653 - accuracy: 0.6990 - val_loss: 0.5204 - val_accuracy: 0.7458\n",
      "Epoch 5/150\n",
      "17/17 [==============================] - 237s 14s/step - loss: 0.4976 - accuracy: 0.7789 - val_loss: 0.4984 - val_accuracy: 0.7542\n",
      "Epoch 6/150\n",
      "17/17 [==============================] - 240s 14s/step - loss: 0.4800 - accuracy: 0.7752 - val_loss: 0.4785 - val_accuracy: 0.7712\n",
      "Epoch 7/150\n",
      "17/17 [==============================] - 236s 14s/step - loss: 0.4675 - accuracy: 0.7912 - val_loss: 0.4566 - val_accuracy: 0.7924\n",
      "Epoch 8/150\n",
      "17/17 [==============================] - 238s 14s/step - loss: 0.4502 - accuracy: 0.7959 - val_loss: 0.5061 - val_accuracy: 0.7267\n",
      "Epoch 9/150\n",
      "17/17 [==============================] - 234s 14s/step - loss: 0.4865 - accuracy: 0.7695 - val_loss: 0.4448 - val_accuracy: 0.7924\n",
      "Epoch 10/150\n",
      "17/17 [==============================] - 236s 14s/step - loss: 0.4381 - accuracy: 0.7959 - val_loss: 0.4650 - val_accuracy: 0.7585\n",
      "Epoch 11/150\n",
      "17/17 [==============================] - 238s 14s/step - loss: 0.4113 - accuracy: 0.8213 - val_loss: 0.4160 - val_accuracy: 0.8072\n",
      "Epoch 12/150\n",
      "17/17 [==============================] - 241s 14s/step - loss: 0.4009 - accuracy: 0.8250 - val_loss: 0.4286 - val_accuracy: 0.8051\n",
      "Epoch 13/150\n",
      "17/17 [==============================] - 238s 14s/step - loss: 0.3814 - accuracy: 0.8561 - val_loss: 0.4101 - val_accuracy: 0.8305\n",
      "Epoch 14/150\n",
      "17/17 [==============================] - 234s 14s/step - loss: 0.3624 - accuracy: 0.8551 - val_loss: 0.4086 - val_accuracy: 0.8242\n",
      "Epoch 15/150\n",
      "17/17 [==============================] - 236s 14s/step - loss: 0.3618 - accuracy: 0.8664 - val_loss: 0.3844 - val_accuracy: 0.8390\n",
      "Epoch 16/150\n",
      "17/17 [==============================] - 233s 14s/step - loss: 0.3352 - accuracy: 0.8833 - val_loss: 0.3779 - val_accuracy: 0.8326\n",
      "Epoch 17/150\n",
      "17/17 [==============================] - 234s 14s/step - loss: 0.3353 - accuracy: 0.8805 - val_loss: 0.3663 - val_accuracy: 0.8475\n",
      "Epoch 18/150\n",
      "17/17 [==============================] - 235s 14s/step - loss: 0.3240 - accuracy: 0.8862 - val_loss: 0.3629 - val_accuracy: 0.8623\n",
      "Epoch 19/150\n",
      "17/17 [==============================] - 235s 14s/step - loss: 0.3098 - accuracy: 0.8862 - val_loss: 0.3479 - val_accuracy: 0.8581\n",
      "Epoch 20/150\n",
      "17/17 [==============================] - 237s 14s/step - loss: 0.3207 - accuracy: 0.8824 - val_loss: 0.3667 - val_accuracy: 0.8347\n",
      "Epoch 21/150\n",
      "17/17 [==============================] - 237s 14s/step - loss: 0.3243 - accuracy: 0.8768 - val_loss: 0.3419 - val_accuracy: 0.8644\n",
      "Epoch 22/150\n",
      "17/17 [==============================] - 241s 14s/step - loss: 0.3001 - accuracy: 0.8909 - val_loss: 0.3317 - val_accuracy: 0.8686\n",
      "Epoch 23/150\n",
      "17/17 [==============================] - 236s 14s/step - loss: 0.2901 - accuracy: 0.9022 - val_loss: 0.3625 - val_accuracy: 0.8581\n",
      "Epoch 24/150\n",
      "17/17 [==============================] - 232s 14s/step - loss: 0.3054 - accuracy: 0.8852 - val_loss: 0.3445 - val_accuracy: 0.8644\n",
      "Epoch 25/150\n",
      "17/17 [==============================] - 234s 14s/step - loss: 0.2849 - accuracy: 0.9003 - val_loss: 0.3302 - val_accuracy: 0.8581\n",
      "Epoch 26/150\n",
      "17/17 [==============================] - 236s 14s/step - loss: 0.2785 - accuracy: 0.8937 - val_loss: 0.3302 - val_accuracy: 0.8729\n",
      "Epoch 27/150\n",
      "17/17 [==============================] - 236s 14s/step - loss: 0.2689 - accuracy: 0.9116 - val_loss: 0.3137 - val_accuracy: 0.8919\n",
      "Epoch 28/150\n",
      "17/17 [==============================] - 234s 14s/step - loss: 0.2648 - accuracy: 0.9219 - val_loss: 0.3237 - val_accuracy: 0.8686\n",
      "Epoch 29/150\n",
      "17/17 [==============================] - 235s 14s/step - loss: 0.2576 - accuracy: 0.9125 - val_loss: 0.3124 - val_accuracy: 0.8919\n",
      "Epoch 30/150\n",
      "17/17 [==============================] - 238s 14s/step - loss: 0.2509 - accuracy: 0.9257 - val_loss: 0.3019 - val_accuracy: 0.8919\n",
      "Epoch 31/150\n",
      "17/17 [==============================] - 238s 14s/step - loss: 0.2444 - accuracy: 0.9219 - val_loss: 0.3025 - val_accuracy: 0.8771\n",
      "Epoch 32/150\n",
      "17/17 [==============================] - 239s 14s/step - loss: 0.2593 - accuracy: 0.9144 - val_loss: 0.2998 - val_accuracy: 0.8877\n",
      "Epoch 33/150\n",
      "17/17 [==============================] - 238s 14s/step - loss: 0.2569 - accuracy: 0.9097 - val_loss: 0.3022 - val_accuracy: 0.8877\n",
      "Epoch 34/150\n",
      "17/17 [==============================] - 234s 14s/step - loss: 0.2590 - accuracy: 0.9144 - val_loss: 0.3143 - val_accuracy: 0.8898\n",
      "Epoch 35/150\n",
      "17/17 [==============================] - 233s 14s/step - loss: 0.2544 - accuracy: 0.9135 - val_loss: 0.2916 - val_accuracy: 0.8919\n",
      "Epoch 36/150\n",
      "17/17 [==============================] - 235s 14s/step - loss: 0.2379 - accuracy: 0.9191 - val_loss: 0.2967 - val_accuracy: 0.8962\n",
      "Epoch 37/150\n",
      "17/17 [==============================] - 239s 14s/step - loss: 0.2174 - accuracy: 0.9341 - val_loss: 0.2865 - val_accuracy: 0.8941\n",
      "Epoch 38/150\n",
      "17/17 [==============================] - 236s 14s/step - loss: 0.2247 - accuracy: 0.9285 - val_loss: 0.2975 - val_accuracy: 0.8877\n",
      "Epoch 39/150\n",
      "17/17 [==============================] - 235s 14s/step - loss: 0.2228 - accuracy: 0.9266 - val_loss: 0.2811 - val_accuracy: 0.9004\n",
      "Epoch 40/150\n",
      "17/17 [==============================] - 233s 14s/step - loss: 0.2244 - accuracy: 0.9219 - val_loss: 0.3022 - val_accuracy: 0.8814\n",
      "Epoch 41/150\n",
      "17/17 [==============================] - 236s 14s/step - loss: 0.2247 - accuracy: 0.9219 - val_loss: 0.3014 - val_accuracy: 0.8856\n",
      "Epoch 42/150\n",
      "17/17 [==============================] - 238s 14s/step - loss: 0.2298 - accuracy: 0.9238 - val_loss: 0.2933 - val_accuracy: 0.8856\n",
      "Epoch 43/150\n",
      "17/17 [==============================] - 238s 14s/step - loss: 0.2062 - accuracy: 0.9351 - val_loss: 0.2836 - val_accuracy: 0.8919\n",
      "Epoch 44/150\n",
      "17/17 [==============================] - 236s 14s/step - loss: 0.2277 - accuracy: 0.9191 - val_loss: 0.3353 - val_accuracy: 0.8686\n",
      "Epoch 45/150\n",
      "17/17 [==============================] - 233s 14s/step - loss: 0.2240 - accuracy: 0.9247 - val_loss: 0.3774 - val_accuracy: 0.8326\n",
      "Epoch 46/150\n",
      "17/17 [==============================] - 235s 14s/step - loss: 0.2149 - accuracy: 0.9257 - val_loss: 0.2845 - val_accuracy: 0.9004\n",
      "Epoch 47/150\n",
      "17/17 [==============================] - 237s 14s/step - loss: 0.2084 - accuracy: 0.9285 - val_loss: 0.2729 - val_accuracy: 0.8941\n",
      "Epoch 48/150\n",
      "17/17 [==============================] - 235s 14s/step - loss: 0.2073 - accuracy: 0.9304 - val_loss: 0.2775 - val_accuracy: 0.8962\n",
      "Epoch 49/150\n",
      "17/17 [==============================] - 237s 14s/step - loss: 0.2018 - accuracy: 0.9313 - val_loss: 0.2780 - val_accuracy: 0.8962\n",
      "Epoch 50/150\n",
      "17/17 [==============================] - 236s 14s/step - loss: 0.2057 - accuracy: 0.9304 - val_loss: 0.3152 - val_accuracy: 0.8835\n",
      "Epoch 51/150\n",
      "17/17 [==============================] - 237s 14s/step - loss: 0.1893 - accuracy: 0.9379 - val_loss: 0.2743 - val_accuracy: 0.9004\n",
      "Epoch 52/150\n",
      "17/17 [==============================] - 237s 14s/step - loss: 0.1975 - accuracy: 0.9332 - val_loss: 0.2900 - val_accuracy: 0.8877\n",
      "Epoch 53/150\n",
      "17/17 [==============================] - 242s 14s/step - loss: 0.2161 - accuracy: 0.9266 - val_loss: 0.2641 - val_accuracy: 0.9110\n",
      "Epoch 54/150\n",
      "17/17 [==============================] - 234s 14s/step - loss: 0.1917 - accuracy: 0.9445 - val_loss: 0.2728 - val_accuracy: 0.8983\n",
      "Epoch 55/150\n",
      "17/17 [==============================] - 233s 14s/step - loss: 0.1854 - accuracy: 0.9341 - val_loss: 0.2699 - val_accuracy: 0.8962\n",
      "Epoch 56/150\n",
      "17/17 [==============================] - 232s 14s/step - loss: 0.1763 - accuracy: 0.9454 - val_loss: 0.2582 - val_accuracy: 0.9004\n",
      "Epoch 57/150\n",
      "17/17 [==============================] - 234s 14s/step - loss: 0.1834 - accuracy: 0.9332 - val_loss: 0.2580 - val_accuracy: 0.8919\n"
     ]
    },
    {
     "name": "stdout",
     "output_type": "stream",
     "text": [
      "Epoch 58/150\n",
      "17/17 [==============================] - 235s 14s/step - loss: 0.1834 - accuracy: 0.9351 - val_loss: 0.2609 - val_accuracy: 0.9004\n",
      "Epoch 59/150\n",
      "17/17 [==============================] - 235s 14s/step - loss: 0.1869 - accuracy: 0.9389 - val_loss: 0.2635 - val_accuracy: 0.8856\n",
      "Epoch 60/150\n",
      "17/17 [==============================] - 235s 14s/step - loss: 0.2030 - accuracy: 0.9294 - val_loss: 0.2776 - val_accuracy: 0.9025\n",
      "Epoch 61/150\n",
      "17/17 [==============================] - 236s 14s/step - loss: 0.1809 - accuracy: 0.9398 - val_loss: 0.2623 - val_accuracy: 0.8983\n",
      "Epoch 62/150\n",
      "17/17 [==============================] - 236s 14s/step - loss: 0.1981 - accuracy: 0.9200 - val_loss: 0.2902 - val_accuracy: 0.8877\n",
      "Epoch 63/150\n",
      "17/17 [==============================] - 236s 14s/step - loss: 0.1572 - accuracy: 0.9520 - val_loss: 0.2650 - val_accuracy: 0.9004\n",
      "Epoch 64/150\n",
      "17/17 [==============================] - 234s 14s/step - loss: 0.1790 - accuracy: 0.9398 - val_loss: 0.2696 - val_accuracy: 0.8983\n",
      "Epoch 65/150\n",
      "17/17 [==============================] - 233s 14s/step - loss: 0.1748 - accuracy: 0.9464 - val_loss: 0.2687 - val_accuracy: 0.8983\n",
      "Epoch 66/150\n",
      "17/17 [==============================] - 234s 14s/step - loss: 0.1642 - accuracy: 0.9520 - val_loss: 0.2640 - val_accuracy: 0.8941\n",
      "Epoch 67/150\n",
      "17/17 [==============================] - 234s 14s/step - loss: 0.1697 - accuracy: 0.9445 - val_loss: 0.2734 - val_accuracy: 0.8919\n",
      "Epoch 68/150\n",
      "17/17 [==============================] - 238s 14s/step - loss: 0.1639 - accuracy: 0.9473 - val_loss: 0.2578 - val_accuracy: 0.8983\n",
      "Epoch 69/150\n",
      "17/17 [==============================] - 235s 14s/step - loss: 0.1765 - accuracy: 0.9351 - val_loss: 0.3016 - val_accuracy: 0.8856\n",
      "Epoch 70/150\n",
      "17/17 [==============================] - 236s 14s/step - loss: 0.1748 - accuracy: 0.9351 - val_loss: 0.2773 - val_accuracy: 0.8919\n",
      "Epoch 71/150\n",
      "17/17 [==============================] - 235s 14s/step - loss: 0.1656 - accuracy: 0.9501 - val_loss: 0.2674 - val_accuracy: 0.8941\n",
      "Epoch 72/150\n",
      "17/17 [==============================] - 236s 14s/step - loss: 0.1657 - accuracy: 0.9464 - val_loss: 0.2619 - val_accuracy: 0.8898\n",
      "Epoch 73/150\n",
      "17/17 [==============================] - 235s 14s/step - loss: 0.1620 - accuracy: 0.9483 - val_loss: 0.2689 - val_accuracy: 0.8835\n",
      "Epoch 74/150\n",
      "17/17 [==============================] - 233s 14s/step - loss: 0.1660 - accuracy: 0.9389 - val_loss: 0.2735 - val_accuracy: 0.8898\n",
      "Epoch 75/150\n",
      "17/17 [==============================] - 236s 14s/step - loss: 0.1564 - accuracy: 0.9454 - val_loss: 0.2663 - val_accuracy: 0.8898\n",
      "Epoch 76/150\n",
      "17/17 [==============================] - 235s 14s/step - loss: 0.1519 - accuracy: 0.9511 - val_loss: 0.2861 - val_accuracy: 0.8877\n",
      "Epoch 77/150\n",
      "17/17 [==============================] - 234s 14s/step - loss: 0.1660 - accuracy: 0.9351 - val_loss: 0.2665 - val_accuracy: 0.8962\n",
      "Epoch 78/150\n",
      "17/17 [==============================] - 235s 14s/step - loss: 0.1464 - accuracy: 0.9483 - val_loss: 0.2681 - val_accuracy: 0.9025\n",
      "Epoch 79/150\n",
      "17/17 [==============================] - 233s 14s/step - loss: 0.1696 - accuracy: 0.9351 - val_loss: 0.2897 - val_accuracy: 0.8983\n",
      "Epoch 80/150\n",
      "17/17 [==============================] - 235s 14s/step - loss: 0.1597 - accuracy: 0.9483 - val_loss: 0.2751 - val_accuracy: 0.9004\n",
      "Epoch 81/150\n",
      "17/17 [==============================] - 235s 14s/step - loss: 0.1537 - accuracy: 0.9511 - val_loss: 0.2773 - val_accuracy: 0.8919\n",
      "Epoch 82/150\n",
      "17/17 [==============================] - 234s 14s/step - loss: 0.1525 - accuracy: 0.9360 - val_loss: 0.2662 - val_accuracy: 0.9025\n",
      "Epoch 83/150\n",
      "17/17 [==============================] - 234s 14s/step - loss: 0.1411 - accuracy: 0.9464 - val_loss: 0.2681 - val_accuracy: 0.8941\n",
      "Epoch 84/150\n",
      "17/17 [==============================] - 238s 14s/step - loss: 0.1482 - accuracy: 0.9492 - val_loss: 0.2670 - val_accuracy: 0.8877\n",
      "Epoch 85/150\n",
      "17/17 [==============================] - 235s 14s/step - loss: 0.1576 - accuracy: 0.9511 - val_loss: 0.2872 - val_accuracy: 0.8877\n",
      "Epoch 86/150\n",
      "17/17 [==============================] - 234s 14s/step - loss: 0.1561 - accuracy: 0.9483 - val_loss: 0.2603 - val_accuracy: 0.9004\n",
      "Epoch 87/150\n",
      "17/17 [==============================] - 235s 14s/step - loss: 0.1400 - accuracy: 0.9530 - val_loss: 0.2696 - val_accuracy: 0.8983\n",
      "Epoch 88/150\n",
      "17/17 [==============================] - 235s 14s/step - loss: 0.1652 - accuracy: 0.9417 - val_loss: 0.2648 - val_accuracy: 0.8919\n",
      "Epoch 89/150\n",
      "17/17 [==============================] - 233s 14s/step - loss: 0.1405 - accuracy: 0.9492 - val_loss: 0.2687 - val_accuracy: 0.8962\n",
      "Epoch 90/150\n",
      "17/17 [==============================] - 235s 14s/step - loss: 0.1442 - accuracy: 0.9436 - val_loss: 0.2623 - val_accuracy: 0.8983\n",
      "Epoch 91/150\n",
      "17/17 [==============================] - 235s 14s/step - loss: 0.1497 - accuracy: 0.9511 - val_loss: 0.2562 - val_accuracy: 0.8962\n",
      "Epoch 92/150\n",
      "17/17 [==============================] - 234s 14s/step - loss: 0.1477 - accuracy: 0.9483 - val_loss: 0.2667 - val_accuracy: 0.8962\n",
      "Epoch 93/150\n",
      "17/17 [==============================] - 234s 14s/step - loss: 0.1773 - accuracy: 0.9389 - val_loss: 0.3132 - val_accuracy: 0.8898\n",
      "Epoch 94/150\n",
      "17/17 [==============================] - 233s 14s/step - loss: 0.1489 - accuracy: 0.9539 - val_loss: 0.2663 - val_accuracy: 0.8941\n",
      "Epoch 95/150\n",
      "17/17 [==============================] - 234s 14s/step - loss: 0.1357 - accuracy: 0.9548 - val_loss: 0.3022 - val_accuracy: 0.8919\n",
      "Epoch 96/150\n",
      "17/17 [==============================] - 233s 14s/step - loss: 0.1474 - accuracy: 0.9520 - val_loss: 0.2650 - val_accuracy: 0.8983\n",
      "Epoch 97/150\n",
      "17/17 [==============================] - 232s 14s/step - loss: 0.1275 - accuracy: 0.9539 - val_loss: 0.2625 - val_accuracy: 0.9025\n",
      "Epoch 98/150\n",
      "17/17 [==============================] - 234s 14s/step - loss: 0.1564 - accuracy: 0.9417 - val_loss: 0.3215 - val_accuracy: 0.8835\n",
      "Epoch 99/150\n",
      "17/17 [==============================] - 237s 14s/step - loss: 0.1690 - accuracy: 0.9294 - val_loss: 0.3259 - val_accuracy: 0.8750\n",
      "Epoch 100/150\n",
      "17/17 [==============================] - 236s 14s/step - loss: 0.1747 - accuracy: 0.9323 - val_loss: 0.3031 - val_accuracy: 0.8856\n",
      "Epoch 101/150\n",
      "17/17 [==============================] - 234s 14s/step - loss: 0.1722 - accuracy: 0.9323 - val_loss: 0.2692 - val_accuracy: 0.8919\n",
      "Epoch 102/150\n",
      "17/17 [==============================] - 233s 14s/step - loss: 0.1647 - accuracy: 0.9389 - val_loss: 0.2612 - val_accuracy: 0.8983\n",
      "Epoch 103/150\n",
      "17/17 [==============================] - 234s 14s/step - loss: 0.1296 - accuracy: 0.9539 - val_loss: 0.2533 - val_accuracy: 0.9047\n",
      "Epoch 104/150\n",
      "17/17 [==============================] - 235s 14s/step - loss: 0.1309 - accuracy: 0.9501 - val_loss: 0.2571 - val_accuracy: 0.8941\n",
      "Epoch 105/150\n",
      "17/17 [==============================] - 234s 14s/step - loss: 0.1311 - accuracy: 0.9567 - val_loss: 0.2708 - val_accuracy: 0.8941\n",
      "Epoch 106/150\n",
      "17/17 [==============================] - 236s 14s/step - loss: 0.1342 - accuracy: 0.9492 - val_loss: 0.2648 - val_accuracy: 0.9004\n",
      "Epoch 107/150\n",
      "17/17 [==============================] - 234s 14s/step - loss: 0.1265 - accuracy: 0.9577 - val_loss: 0.2583 - val_accuracy: 0.8983\n",
      "Epoch 108/150\n",
      "17/17 [==============================] - 239s 14s/step - loss: 0.1275 - accuracy: 0.9511 - val_loss: 0.2558 - val_accuracy: 0.8962\n",
      "Epoch 109/150\n",
      "17/17 [==============================] - 237s 14s/step - loss: 0.1365 - accuracy: 0.9473 - val_loss: 0.2554 - val_accuracy: 0.9047\n",
      "Epoch 110/150\n",
      "17/17 [==============================] - 239s 14s/step - loss: 0.1359 - accuracy: 0.9520 - val_loss: 0.2611 - val_accuracy: 0.8962\n",
      "Epoch 111/150\n",
      "17/17 [==============================] - 236s 14s/step - loss: 0.1421 - accuracy: 0.9445 - val_loss: 0.2686 - val_accuracy: 0.8983\n",
      "Epoch 112/150\n",
      "17/17 [==============================] - 150s 9s/step - loss: 0.1334 - accuracy: 0.9445 - val_loss: 0.2653 - val_accuracy: 0.8898\n",
      "Epoch 113/150\n",
      "17/17 [==============================] - 122s 7s/step - loss: 0.1160 - accuracy: 0.9624 - val_loss: 0.2704 - val_accuracy: 0.8941\n",
      "Epoch 114/150\n",
      "17/17 [==============================] - 123s 7s/step - loss: 0.1245 - accuracy: 0.9530 - val_loss: 0.2716 - val_accuracy: 0.9004\n"
     ]
    },
    {
     "name": "stdout",
     "output_type": "stream",
     "text": [
      "Epoch 115/150\n",
      "17/17 [==============================] - 126s 8s/step - loss: 0.1245 - accuracy: 0.9530 - val_loss: 0.2652 - val_accuracy: 0.9025\n",
      "Epoch 116/150\n",
      "17/17 [==============================] - 124s 7s/step - loss: 0.1330 - accuracy: 0.9473 - val_loss: 0.2690 - val_accuracy: 0.9004\n",
      "Epoch 117/150\n",
      "17/17 [==============================] - 123s 7s/step - loss: 0.1201 - accuracy: 0.9577 - val_loss: 0.2677 - val_accuracy: 0.9004\n",
      "Epoch 118/150\n",
      "17/17 [==============================] - 123s 7s/step - loss: 0.1215 - accuracy: 0.9586 - val_loss: 0.2662 - val_accuracy: 0.8898\n",
      "Epoch 119/150\n",
      "17/17 [==============================] - 123s 7s/step - loss: 0.1250 - accuracy: 0.9558 - val_loss: 0.2613 - val_accuracy: 0.8919\n",
      "Epoch 120/150\n",
      "17/17 [==============================] - 123s 7s/step - loss: 0.1266 - accuracy: 0.9567 - val_loss: 0.2648 - val_accuracy: 0.8919\n",
      "Epoch 121/150\n",
      "17/17 [==============================] - 123s 7s/step - loss: 0.1271 - accuracy: 0.9520 - val_loss: 0.2737 - val_accuracy: 0.8941\n",
      "Epoch 122/150\n",
      "17/17 [==============================] - 123s 7s/step - loss: 0.1373 - accuracy: 0.9511 - val_loss: 0.2733 - val_accuracy: 0.8919\n",
      "Epoch 123/150\n",
      "17/17 [==============================] - 123s 7s/step - loss: 0.1318 - accuracy: 0.9492 - val_loss: 0.2993 - val_accuracy: 0.8983\n",
      "Epoch 124/150\n",
      "17/17 [==============================] - 123s 7s/step - loss: 0.1286 - accuracy: 0.9492 - val_loss: 0.2902 - val_accuracy: 0.8919\n",
      "Epoch 125/150\n",
      "17/17 [==============================] - 123s 7s/step - loss: 0.1278 - accuracy: 0.9511 - val_loss: 0.2725 - val_accuracy: 0.8919\n",
      "Epoch 126/150\n",
      "17/17 [==============================] - 123s 7s/step - loss: 0.1293 - accuracy: 0.9492 - val_loss: 0.2763 - val_accuracy: 0.9047\n",
      "Epoch 127/150\n",
      "17/17 [==============================] - 123s 7s/step - loss: 0.1257 - accuracy: 0.9539 - val_loss: 0.2717 - val_accuracy: 0.8962\n",
      "Epoch 128/150\n",
      "17/17 [==============================] - 123s 7s/step - loss: 0.1218 - accuracy: 0.9577 - val_loss: 0.2739 - val_accuracy: 0.8941\n",
      "Epoch 129/150\n",
      "17/17 [==============================] - 123s 7s/step - loss: 0.1372 - accuracy: 0.9473 - val_loss: 0.2725 - val_accuracy: 0.8919\n",
      "Epoch 130/150\n",
      "17/17 [==============================] - 123s 7s/step - loss: 0.1336 - accuracy: 0.9454 - val_loss: 0.2766 - val_accuracy: 0.8856\n",
      "Epoch 131/150\n",
      "17/17 [==============================] - 123s 7s/step - loss: 0.1063 - accuracy: 0.9680 - val_loss: 0.2734 - val_accuracy: 0.8962\n",
      "Epoch 132/150\n",
      "17/17 [==============================] - 123s 7s/step - loss: 0.1191 - accuracy: 0.9558 - val_loss: 0.2778 - val_accuracy: 0.8877\n",
      "Epoch 133/150\n",
      "17/17 [==============================] - 124s 7s/step - loss: 0.1160 - accuracy: 0.9577 - val_loss: 0.2843 - val_accuracy: 0.8919\n",
      "Epoch 134/150\n",
      "17/17 [==============================] - 123s 7s/step - loss: 0.1302 - accuracy: 0.9464 - val_loss: 0.2799 - val_accuracy: 0.8919\n",
      "Epoch 135/150\n",
      "17/17 [==============================] - 123s 7s/step - loss: 0.1225 - accuracy: 0.9520 - val_loss: 0.2948 - val_accuracy: 0.8898\n",
      "Epoch 136/150\n",
      "17/17 [==============================] - 123s 7s/step - loss: 0.1324 - accuracy: 0.9464 - val_loss: 0.2872 - val_accuracy: 0.8962\n",
      "Epoch 137/150\n",
      "17/17 [==============================] - 123s 7s/step - loss: 0.1319 - accuracy: 0.9520 - val_loss: 0.3087 - val_accuracy: 0.8814\n",
      "Epoch 138/150\n",
      "17/17 [==============================] - 124s 7s/step - loss: 0.1297 - accuracy: 0.9511 - val_loss: 0.3188 - val_accuracy: 0.8898\n",
      "Epoch 139/150\n",
      "17/17 [==============================] - 123s 7s/step - loss: 0.1126 - accuracy: 0.9624 - val_loss: 0.2972 - val_accuracy: 0.8814\n",
      "Epoch 140/150\n",
      "17/17 [==============================] - 123s 7s/step - loss: 0.1208 - accuracy: 0.9577 - val_loss: 0.2897 - val_accuracy: 0.8835\n",
      "Epoch 141/150\n",
      "17/17 [==============================] - 123s 7s/step - loss: 0.1146 - accuracy: 0.9558 - val_loss: 0.2976 - val_accuracy: 0.8919\n",
      "Epoch 142/150\n",
      "17/17 [==============================] - 124s 7s/step - loss: 0.1161 - accuracy: 0.9605 - val_loss: 0.2849 - val_accuracy: 0.8877\n",
      "Epoch 143/150\n",
      "17/17 [==============================] - 123s 7s/step - loss: 0.1232 - accuracy: 0.9454 - val_loss: 0.3014 - val_accuracy: 0.8983\n",
      "Epoch 144/150\n",
      "17/17 [==============================] - 124s 7s/step - loss: 0.1153 - accuracy: 0.9501 - val_loss: 0.2790 - val_accuracy: 0.8877\n",
      "Epoch 145/150\n",
      "17/17 [==============================] - 123s 7s/step - loss: 0.1182 - accuracy: 0.9539 - val_loss: 0.2851 - val_accuracy: 0.8898\n",
      "Epoch 146/150\n",
      "17/17 [==============================] - 128s 8s/step - loss: 0.1280 - accuracy: 0.9530 - val_loss: 0.3106 - val_accuracy: 0.8941\n",
      "Epoch 147/150\n",
      "17/17 [==============================] - 123s 7s/step - loss: 0.1256 - accuracy: 0.9548 - val_loss: 0.2798 - val_accuracy: 0.8962\n",
      "Epoch 148/150\n",
      "17/17 [==============================] - 123s 7s/step - loss: 0.1092 - accuracy: 0.9633 - val_loss: 0.2953 - val_accuracy: 0.8962\n",
      "Epoch 149/150\n",
      "17/17 [==============================] - 122s 7s/step - loss: 0.1417 - accuracy: 0.9351 - val_loss: 0.2967 - val_accuracy: 0.8983\n",
      "Epoch 150/150\n",
      "17/17 [==============================] - 123s 7s/step - loss: 0.1265 - accuracy: 0.9501 - val_loss: 0.2905 - val_accuracy: 0.8898\n"
     ]
    }
   ],
   "source": [
    "epoch=150\n",
    "\n",
    "history = model.fit(train_genarator,\n",
    "                  steps_per_epoch=len(train_genarator),\n",
    "                  epochs=epoch,\n",
    "                  validation_data=validation_generator,\n",
    "                  validation_steps=len(validation_generator)\n",
    "                 )"
   ]
  },
  {
   "cell_type": "code",
   "execution_count": 30,
   "id": "5be26978",
   "metadata": {
    "scrolled": true
   },
   "outputs": [
    {
     "name": "stdout",
     "output_type": "stream",
     "text": [
      "1/1 [==============================] - 0s 373ms/step\n",
      "[[0.01827682 0.9701433 ]]\n",
      "Not Fully Bloom\n"
     ]
    }
   ],
   "source": [
    "from keras.preprocessing import image\n",
    "import numpy as np\n",
    "\n",
    "img_pred=keras.utils.load_img(r\"D:\\university\\Thesis\\final\\Flower kath golap\\2testing\\Pre Bloom\\E0A4OHJK7TUS.jpg\",target_size=(224,224))\n",
    "\n",
    "img_pred=tf.keras.preprocessing.image.img_to_array(img_pred)\n",
    "\n",
    "img_pred=np.expand_dims(img_pred, axis=0)\n",
    "img_pred=img_pred/255\n",
    "\n",
    "rslt= model.predict(img_pred)\n",
    "\n",
    "print(rslt)\n",
    "if rslt[0][0]>rslt[0][1]:\n",
    "    prediction=\"Fully Bloom\"\n",
    "    \n",
    "    \n",
    "else:\n",
    "    prediction=\"Not Fully Bloom\"\n",
    "print(prediction)"
   ]
  },
  {
   "cell_type": "code",
   "execution_count": null,
   "id": "cfa40594",
   "metadata": {},
   "outputs": [],
   "source": []
  },
  {
   "cell_type": "code",
   "execution_count": null,
   "id": "60577b97",
   "metadata": {},
   "outputs": [],
   "source": []
  },
  {
   "cell_type": "code",
   "execution_count": null,
   "id": "7d966368",
   "metadata": {},
   "outputs": [],
   "source": []
  },
  {
   "cell_type": "code",
   "execution_count": null,
   "id": "0756c7cd",
   "metadata": {},
   "outputs": [],
   "source": []
  },
  {
   "cell_type": "code",
   "execution_count": 90,
   "id": "a81dc165",
   "metadata": {},
   "outputs": [
    {
     "name": "stdout",
     "output_type": "stream",
     "text": [
      "Not Fully Bloom\n"
     ]
    }
   ],
   "source": [
    "if rslt[0][1] == 1:\n",
    "    print(\"Fully Bloom\")\n",
    "elif rslt[0][0] == 1:\n",
    "    print(\"Not Fully Bloom\")"
   ]
  },
  {
   "cell_type": "code",
   "execution_count": null,
   "id": "26eb2465",
   "metadata": {},
   "outputs": [],
   "source": []
  },
  {
   "cell_type": "code",
   "execution_count": null,
   "id": "81170193",
   "metadata": {},
   "outputs": [],
   "source": []
  }
 ],
 "metadata": {
  "kernelspec": {
   "display_name": "Python 3 (ipykernel)",
   "language": "python",
   "name": "python3"
  },
  "language_info": {
   "codemirror_mode": {
    "name": "ipython",
    "version": 3
   },
   "file_extension": ".py",
   "mimetype": "text/x-python",
   "name": "python",
   "nbconvert_exporter": "python",
   "pygments_lexer": "ipython3",
   "version": "3.9.12"
  }
 },
 "nbformat": 4,
 "nbformat_minor": 5
}
